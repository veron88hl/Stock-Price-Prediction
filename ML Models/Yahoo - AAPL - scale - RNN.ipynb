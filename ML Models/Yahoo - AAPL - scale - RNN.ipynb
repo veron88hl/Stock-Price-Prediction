{
 "cells": [
  {
   "cell_type": "code",
   "execution_count": 28,
   "id": "d9869111",
   "metadata": {},
   "outputs": [],
   "source": [
    "#import libraries\n",
    "import numpy as np\n",
    "import pandas as pd\n",
    "import itertools\n",
    "import seaborn as sns\n",
    "import warnings\n",
    "%matplotlib inline\n",
    "import matplotlib.pyplot as plt\n",
    "import matplotlib.gridspec as gridspec\n",
    "\n",
    "import tensorflow as tf\n",
    "import datetime\n"
   ]
  },
  {
   "cell_type": "code",
   "execution_count": 38,
   "id": "d8e1dfba",
   "metadata": {
    "scrolled": true
   },
   "outputs": [
    {
     "name": "stdout",
     "output_type": "stream",
     "text": [
      "[*********************100%***********************]  1 of 1 completed\n"
     ]
    },
    {
     "data": {
      "image/png": "[encoded data removed]",
      "text/plain": [
       "<Figure size 720x360 with 1 Axes>"
      ]
     },
     "metadata": {
      "needs_background": "light"
     },
     "output_type": "display_data"
    }
   ],
   "source": [
    "ticker = \"AAPL\"\n",
    "df = pdr.get_data_yahoo(ticker, start=\"2018-01-01\", end=\"2021-12-31\")         \n",
    "df= df.dropna()\n",
    "df.Close.plot(figsize=(10,5))\n",
    "plt.ylabel(\"Apple Price\")\n",
    "plt.show()"
   ]
  },
  {
   "cell_type": "code",
   "execution_count": 31,
   "id": "ff9cca0c",
   "metadata": {},
   "outputs": [
    {
     "data": {
      "text/html": [
       "<div>\n",
       "<style scoped>\n",
       "    .dataframe tbody tr th:only-of-type {\n",
       "        vertical-align: middle;\n",
       "    }\n",
       "\n",
       "    .dataframe tbody tr th {\n",
       "        vertical-align: top;\n",
       "    }\n",
       "\n",
       "    .dataframe thead th {\n",
       "        text-align: right;\n",
       "    }\n",
       "</style>\n",
       "<table border=\"1\" class=\"dataframe\">\n",
       "  <thead>\n",
       "    <tr style=\"text-align: right;\">\n",
       "      <th></th>\n",
       "      <th>Open</th>\n",
       "      <th>High</th>\n",
       "      <th>Low</th>\n",
       "      <th>Close</th>\n",
       "      <th>Adj Close</th>\n",
       "      <th>Volume</th>\n",
       "    </tr>\n",
       "    <tr>\n",
       "      <th>Date</th>\n",
       "      <th></th>\n",
       "      <th></th>\n",
       "      <th></th>\n",
       "      <th></th>\n",
       "      <th></th>\n",
       "      <th></th>\n",
       "    </tr>\n",
       "  </thead>\n",
       "  <tbody>\n",
       "    <tr>\n",
       "      <th>2018-01-02</th>\n",
       "      <td>42.540001</td>\n",
       "      <td>43.075001</td>\n",
       "      <td>42.314999</td>\n",
       "      <td>43.064999</td>\n",
       "      <td>41.188156</td>\n",
       "      <td>102223600</td>\n",
       "    </tr>\n",
       "    <tr>\n",
       "      <th>2018-01-03</th>\n",
       "      <td>43.132500</td>\n",
       "      <td>43.637501</td>\n",
       "      <td>42.990002</td>\n",
       "      <td>43.057499</td>\n",
       "      <td>41.180992</td>\n",
       "      <td>118071600</td>\n",
       "    </tr>\n",
       "    <tr>\n",
       "      <th>2018-01-04</th>\n",
       "      <td>43.134998</td>\n",
       "      <td>43.367500</td>\n",
       "      <td>43.020000</td>\n",
       "      <td>43.257500</td>\n",
       "      <td>41.372272</td>\n",
       "      <td>89738400</td>\n",
       "    </tr>\n",
       "    <tr>\n",
       "      <th>2018-01-05</th>\n",
       "      <td>43.360001</td>\n",
       "      <td>43.842499</td>\n",
       "      <td>43.262501</td>\n",
       "      <td>43.750000</td>\n",
       "      <td>41.843315</td>\n",
       "      <td>94640000</td>\n",
       "    </tr>\n",
       "    <tr>\n",
       "      <th>2018-01-08</th>\n",
       "      <td>43.587502</td>\n",
       "      <td>43.902500</td>\n",
       "      <td>43.482498</td>\n",
       "      <td>43.587502</td>\n",
       "      <td>41.687889</td>\n",
       "      <td>82271200</td>\n",
       "    </tr>\n",
       "  </tbody>\n",
       "</table>\n",
       "</div>"
      ],
      "text/plain": [
       "                 Open       High        Low      Close  Adj Close     Volume\n",
       "Date                                                                        \n",
       "2018-01-02  42.540001  43.075001  42.314999  43.064999  41.188156  102223600\n",
       "2018-01-03  43.132500  43.637501  42.990002  43.057499  41.180992  118071600\n",
       "2018-01-04  43.134998  43.367500  43.020000  43.257500  41.372272   89738400\n",
       "2018-01-05  43.360001  43.842499  43.262501  43.750000  41.843315   94640000\n",
       "2018-01-08  43.587502  43.902500  43.482498  43.587502  41.687889   82271200"
      ]
     },
     "execution_count": 31,
     "metadata": {},
     "output_type": "execute_result"
    }
   ],
   "source": [
    "df.head()"
   ]
  },
  {
   "cell_type": "code",
   "execution_count": 43,
   "id": "e28c937a",
   "metadata": {},
   "outputs": [],
   "source": [
    "df.to_csv(ticker + '_2018-2022.csv') #5 years record save as csv file"
   ]
  },
  {
   "cell_type": "code",
   "execution_count": 41,
   "id": "2565eb7f",
   "metadata": {},
   "outputs": [
    {
     "name": "stdout",
     "output_type": "stream",
     "text": [
      "[*********************100%***********************]  1 of 1 completed\n"
     ]
    }
   ],
   "source": [
    "df_test =pdr.get_data_yahoo(ticker, start=\"2021-01-01\", end=\"2021-12-31\") \n",
    "df_test.to_csv(ticker + '_2022Dec.csv')"
   ]
  },
  {
   "cell_type": "code",
   "execution_count": 49,
   "id": "f55ae918",
   "metadata": {},
   "outputs": [],
   "source": [
    "dataset_train = pd.read_csv(ticker + '_2018-2022.csv')\n",
    "training_set = dataset_train.iloc[:, 2:3].values"
   ]
  },
  {
   "cell_type": "code",
   "execution_count": 50,
   "id": "1c44f6c5",
   "metadata": {},
   "outputs": [],
   "source": [
    "from sklearn.preprocessing import MinMaxScaler\n",
    "sc = MinMaxScaler(feature_range = (0, 1))\n",
    "training_set_scaled = sc.fit_transform(training_set)"
   ]
  },
  {
   "cell_type": "code",
   "execution_count": 51,
   "id": "807ee680",
   "metadata": {},
   "outputs": [],
   "source": [
    "X_train = []\n",
    "y_train = []\n",
    "for i in range(60, 965):\n",
    "    X_train.append(training_set_scaled[i-60:i, 0])  # Call upon the previous 60\n",
    "    y_train.append(training_set_scaled[i, 0])  # i because it is the 61th index\n",
    "X_train, y_train = np.array(X_train), np.array(y_train)"
   ]
  },
  {
   "cell_type": "code",
   "execution_count": 53,
   "id": "cc9dc4a8",
   "metadata": {},
   "outputs": [],
   "source": [
    "X_train = np.reshape(X_train, (X_train.shape[0], X_train.shape[1], 1))  \n",
    "# Creating a 3_D shape, numpy arrays stacked into indicators"
   ]
  },
  {
   "cell_type": "code",
   "execution_count": 55,
   "id": "3319711d",
   "metadata": {},
   "outputs": [],
   "source": [
    "from tensorflow.keras.models import Sequential\n",
    "from tensorflow.keras.layers import Dense, LSTM, Dropout"
   ]
  },
  {
   "cell_type": "code",
   "execution_count": 56,
   "id": "83ea7f72",
   "metadata": {},
   "outputs": [],
   "source": [
    "# Initializing the RNN\n",
    "regressor = Sequential()"
   ]
  },
  {
   "cell_type": "code",
   "execution_count": 57,
   "id": "d2cbd78d",
   "metadata": {},
   "outputs": [],
   "source": [
    "#adding first LSTM layer and some dropout regularization\n",
    "regressor.add(LSTM(units = 50, return_sequences = True, input_shape = (X_train.shape[1], 1)))  # Starting with 50 neurons, True for stacking\n",
    "regressor.add(Dropout(0.2))  # Drop 20%"
   ]
  },
  {
   "cell_type": "code",
   "execution_count": 58,
   "id": "0c4dcee8",
   "metadata": {},
   "outputs": [],
   "source": [
    "# 2nd LSTM layer\n",
    "regressor.add(LSTM(units = 50, return_sequences = True))  # Starting with 50 neurons, remove input layer\n",
    "regressor.add(Dropout(0.2))  # Drop 20%\n",
    "\n",
    "# 3rd LSTM layer\n",
    "regressor.add(LSTM(units = 50, return_sequences = True))  # Starting with 50 neurons, True for stacking\n",
    "regressor.add(Dropout(0.2))  # Drop 20%\n",
    "\n",
    "# 4th LSTM layer\n",
    "regressor.add(LSTM(units = 50))  # Starting with 50 neurons, False - Last in the stack\n",
    "regressor.add(Dropout(0.2))  # Drop 20%"
   ]
  },
  {
   "cell_type": "code",
   "execution_count": 59,
   "id": "f6e92fb4",
   "metadata": {},
   "outputs": [],
   "source": [
    "# Output Layer\n",
    "regressor.add(Dense(units = 1)) #outer layer"
   ]
  },
  {
   "cell_type": "code",
   "execution_count": 60,
   "id": "b6285414",
   "metadata": {},
   "outputs": [],
   "source": [
    "regressor.compile(optimizer = 'adam', loss = 'mean_squared_error')  # Adam is awlays a good place to start"
   ]
  },
  {
   "cell_type": "code",
   "execution_count": 61,
   "id": "769983cd",
   "metadata": {},
   "outputs": [
    {
     "name": "stdout",
     "output_type": "stream",
     "text": [
      "Epoch 1/100\n",
      "29/29 [==============================] - 6s 47ms/step - loss: 0.0321\n",
      "Epoch 2/100\n",
      "29/29 [==============================] - 1s 46ms/step - loss: 0.0039\n",
      "Epoch 3/100\n",
      "29/29 [==============================] - 1s 43ms/step - loss: 0.0037\n",
      "Epoch 4/100\n",
      "29/29 [==============================] - 1s 43ms/step - loss: 0.0034\n",
      "Epoch 5/100\n",
      "29/29 [==============================] - 1s 43ms/step - loss: 0.0034\n",
      "Epoch 6/100\n",
      "29/29 [==============================] - 1s 43ms/step - loss: 0.0031\n",
      "Epoch 7/100\n",
      "29/29 [==============================] - 1s 43ms/step - loss: 0.0040\n",
      "Epoch 8/100\n",
      "29/29 [==============================] - 1s 43ms/step - loss: 0.0028\n",
      "Epoch 9/100\n",
      "29/29 [==============================] - 1s 43ms/step - loss: 0.0026\n",
      "Epoch 10/100\n",
      "29/29 [==============================] - 1s 43ms/step - loss: 0.0031\n",
      "Epoch 11/100\n",
      "29/29 [==============================] - 1s 43ms/step - loss: 0.0027\n",
      "Epoch 12/100\n",
      "29/29 [==============================] - 1s 43ms/step - loss: 0.0028\n",
      "Epoch 13/100\n",
      "29/29 [==============================] - 1s 43ms/step - loss: 0.0024\n",
      "Epoch 14/100\n",
      "29/29 [==============================] - 1s 43ms/step - loss: 0.0023\n",
      "Epoch 15/100\n",
      "29/29 [==============================] - 1s 43ms/step - loss: 0.0023\n",
      "Epoch 16/100\n",
      "29/29 [==============================] - 1s 43ms/step - loss: 0.0025\n",
      "Epoch 17/100\n",
      "29/29 [==============================] - 1s 43ms/step - loss: 0.0024\n",
      "Epoch 18/100\n",
      "29/29 [==============================] - 1s 43ms/step - loss: 0.0022\n",
      "Epoch 19/100\n",
      "29/29 [==============================] - 1s 43ms/step - loss: 0.0020\n",
      "Epoch 20/100\n",
      "29/29 [==============================] - 1s 43ms/step - loss: 0.0027\n",
      "Epoch 21/100\n",
      "29/29 [==============================] - 1s 43ms/step - loss: 0.0026\n",
      "Epoch 22/100\n",
      "29/29 [==============================] - 1s 43ms/step - loss: 0.0029\n",
      "Epoch 23/100\n",
      "29/29 [==============================] - 1s 43ms/step - loss: 0.0024\n",
      "Epoch 24/100\n",
      "29/29 [==============================] - 1s 43ms/step - loss: 0.0023\n",
      "Epoch 25/100\n",
      "29/29 [==============================] - 1s 44ms/step - loss: 0.0020\n",
      "Epoch 26/100\n",
      "29/29 [==============================] - 1s 44ms/step - loss: 0.0020\n",
      "Epoch 27/100\n",
      "29/29 [==============================] - 1s 44ms/step - loss: 0.0020\n",
      "Epoch 28/100\n",
      "29/29 [==============================] - 1s 44ms/step - loss: 0.0019\n",
      "Epoch 29/100\n",
      "29/29 [==============================] - 1s 43ms/step - loss: 0.0017\n",
      "Epoch 30/100\n",
      "29/29 [==============================] - 1s 43ms/step - loss: 0.0019\n",
      "Epoch 31/100\n",
      "29/29 [==============================] - 1s 43ms/step - loss: 0.0017\n",
      "Epoch 32/100\n",
      "29/29 [==============================] - 1s 43ms/step - loss: 0.0017\n",
      "Epoch 33/100\n",
      "29/29 [==============================] - 1s 43ms/step - loss: 0.0021\n",
      "Epoch 34/100\n",
      "29/29 [==============================] - 1s 43ms/step - loss: 0.0018\n",
      "Epoch 35/100\n",
      "29/29 [==============================] - 1s 43ms/step - loss: 0.0017\n",
      "Epoch 36/100\n",
      "29/29 [==============================] - 1s 43ms/step - loss: 0.0017\n",
      "Epoch 37/100\n",
      "29/29 [==============================] - 1s 43ms/step - loss: 0.0018\n",
      "Epoch 38/100\n",
      "29/29 [==============================] - 1s 43ms/step - loss: 0.0017\n",
      "Epoch 39/100\n",
      "29/29 [==============================] - 1s 43ms/step - loss: 0.0015\n",
      "Epoch 40/100\n",
      "29/29 [==============================] - 1s 44ms/step - loss: 0.0017\n",
      "Epoch 41/100\n",
      "29/29 [==============================] - 1s 43ms/step - loss: 0.0017\n",
      "Epoch 42/100\n",
      "29/29 [==============================] - 1s 43ms/step - loss: 0.0019\n",
      "Epoch 43/100\n",
      "29/29 [==============================] - 1s 43ms/step - loss: 0.0016\n",
      "Epoch 44/100\n",
      "29/29 [==============================] - 1s 43ms/step - loss: 0.0015\n",
      "Epoch 45/100\n",
      "29/29 [==============================] - 1s 44ms/step - loss: 0.0015\n",
      "Epoch 46/100\n",
      "29/29 [==============================] - 1s 43ms/step - loss: 0.0015\n",
      "Epoch 47/100\n",
      "29/29 [==============================] - 1s 43ms/step - loss: 0.0017\n",
      "Epoch 48/100\n",
      "29/29 [==============================] - 1s 43ms/step - loss: 0.0014\n",
      "Epoch 49/100\n",
      "29/29 [==============================] - 1s 43ms/step - loss: 0.0016\n",
      "Epoch 50/100\n",
      "29/29 [==============================] - 1s 43ms/step - loss: 0.0023\n",
      "Epoch 51/100\n",
      "29/29 [==============================] - 1s 43ms/step - loss: 0.0015\n",
      "Epoch 52/100\n",
      "29/29 [==============================] - 1s 43ms/step - loss: 0.0014\n",
      "Epoch 53/100\n",
      "29/29 [==============================] - 1s 43ms/step - loss: 0.0016\n",
      "Epoch 54/100\n",
      "29/29 [==============================] - 1s 43ms/step - loss: 0.0015\n",
      "Epoch 55/100\n",
      "29/29 [==============================] - 1s 43ms/step - loss: 0.0012\n",
      "Epoch 56/100\n",
      "29/29 [==============================] - 1s 43ms/step - loss: 0.0014\n",
      "Epoch 57/100\n",
      "29/29 [==============================] - 1s 43ms/step - loss: 0.0016\n",
      "Epoch 58/100\n",
      "29/29 [==============================] - 1s 43ms/step - loss: 0.0019\n",
      "Epoch 59/100\n",
      "29/29 [==============================] - 1s 43ms/step - loss: 0.0013\n",
      "Epoch 60/100\n",
      "29/29 [==============================] - 1s 43ms/step - loss: 0.0013\n",
      "Epoch 61/100\n",
      "29/29 [==============================] - 1s 43ms/step - loss: 0.0014\n",
      "Epoch 62/100\n",
      "29/29 [==============================] - 1s 43ms/step - loss: 0.0012\n",
      "Epoch 63/100\n",
      "29/29 [==============================] - 1s 43ms/step - loss: 0.0013\n",
      "Epoch 64/100\n",
      "29/29 [==============================] - 1s 43ms/step - loss: 0.0016\n",
      "Epoch 65/100\n",
      "29/29 [==============================] - 1s 43ms/step - loss: 0.0012\n",
      "Epoch 66/100\n",
      "29/29 [==============================] - 1s 43ms/step - loss: 0.0017\n",
      "Epoch 67/100\n",
      "29/29 [==============================] - 1s 43ms/step - loss: 0.0013\n",
      "Epoch 68/100\n",
      "29/29 [==============================] - 1s 43ms/step - loss: 0.0014\n",
      "Epoch 69/100\n",
      "29/29 [==============================] - 1s 43ms/step - loss: 0.0014\n",
      "Epoch 70/100\n",
      "29/29 [==============================] - 1s 43ms/step - loss: 0.0012\n",
      "Epoch 71/100\n",
      "29/29 [==============================] - 1s 43ms/step - loss: 0.0014\n",
      "Epoch 72/100\n",
      "29/29 [==============================] - 1s 43ms/step - loss: 0.0012\n",
      "Epoch 73/100\n",
      "29/29 [==============================] - 1s 43ms/step - loss: 0.0013\n",
      "Epoch 74/100\n",
      "29/29 [==============================] - 1s 43ms/step - loss: 0.0013\n",
      "Epoch 75/100\n",
      "29/29 [==============================] - 1s 43ms/step - loss: 0.0012\n",
      "Epoch 76/100\n",
      "29/29 [==============================] - 1s 43ms/step - loss: 0.0014\n",
      "Epoch 77/100\n",
      "29/29 [==============================] - 1s 43ms/step - loss: 0.0015\n",
      "Epoch 78/100\n",
      "29/29 [==============================] - 1s 43ms/step - loss: 0.0012\n",
      "Epoch 79/100\n",
      "29/29 [==============================] - 1s 43ms/step - loss: 0.0012\n",
      "Epoch 80/100\n",
      "29/29 [==============================] - 1s 43ms/step - loss: 0.0011\n",
      "Epoch 81/100\n",
      "29/29 [==============================] - 1s 43ms/step - loss: 0.0012\n",
      "Epoch 82/100\n",
      "29/29 [==============================] - 1s 43ms/step - loss: 0.0011\n",
      "Epoch 83/100\n",
      "29/29 [==============================] - 1s 43ms/step - loss: 0.0011\n",
      "Epoch 84/100\n",
      "29/29 [==============================] - 1s 43ms/step - loss: 0.0011\n",
      "Epoch 85/100\n",
      "29/29 [==============================] - 1s 43ms/step - loss: 0.0012\n",
      "Epoch 86/100\n",
      "29/29 [==============================] - 1s 43ms/step - loss: 0.0012\n",
      "Epoch 87/100\n",
      "29/29 [==============================] - 1s 43ms/step - loss: 0.0013\n",
      "Epoch 88/100\n",
      "29/29 [==============================] - 1s 43ms/step - loss: 0.0012\n",
      "Epoch 89/100\n",
      "29/29 [==============================] - 1s 43ms/step - loss: 0.0011\n",
      "Epoch 90/100\n",
      "29/29 [==============================] - 1s 43ms/step - loss: 0.0012\n",
      "Epoch 91/100\n",
      "29/29 [==============================] - 1s 43ms/step - loss: 0.0011\n",
      "Epoch 92/100\n",
      "29/29 [==============================] - 1s 43ms/step - loss: 0.0012\n",
      "Epoch 93/100\n",
      "29/29 [==============================] - 1s 43ms/step - loss: 0.0012\n",
      "Epoch 94/100\n",
      "29/29 [==============================] - 1s 43ms/step - loss: 0.0015\n",
      "Epoch 95/100\n",
      "29/29 [==============================] - 1s 43ms/step - loss: 0.0012\n",
      "Epoch 96/100\n",
      "29/29 [==============================] - 1s 43ms/step - loss: 0.0012\n",
      "Epoch 97/100\n",
      "29/29 [==============================] - 1s 43ms/step - loss: 0.0012\n",
      "Epoch 98/100\n",
      "29/29 [==============================] - 1s 43ms/step - loss: 0.0010\n",
      "Epoch 99/100\n",
      "29/29 [==============================] - 1s 43ms/step - loss: 0.0011\n",
      "Epoch 100/100\n",
      "29/29 [==============================] - 1s 43ms/step - loss: 0.0011\n"
     ]
    },
    {
     "data": {
      "text/plain": [
       "<keras.callbacks.History at 0x7fc0b2ad36a0>"
      ]
     },
     "execution_count": 61,
     "metadata": {},
     "output_type": "execute_result"
    }
   ],
   "source": [
    "regressor.fit(X_train, y_train, epochs = 100, batch_size = 32)"
   ]
  },
  {
   "cell_type": "code",
   "execution_count": null,
   "id": "4c425605",
   "metadata": {},
   "outputs": [],
   "source": []
  },
  {
   "cell_type": "code",
   "execution_count": null,
   "id": "9d929b02",
   "metadata": {},
   "outputs": [],
   "source": []
  },
  {
   "cell_type": "code",
   "execution_count": null,
   "id": "f25ca0ef",
   "metadata": {},
   "outputs": [],
   "source": []
  },
  {
   "cell_type": "code",
   "execution_count": null,
   "id": "5ba3c5fa",
   "metadata": {},
   "outputs": [],
   "source": []
  },
  {
   "cell_type": "code",
   "execution_count": null,
   "id": "edf6df71",
   "metadata": {},
   "outputs": [],
   "source": []
  },
  {
   "cell_type": "code",
   "execution_count": null,
   "id": "d6a801e0",
   "metadata": {},
   "outputs": [],
   "source": []
  },
  {
   "cell_type": "code",
   "execution_count": null,
   "id": "6ca32535",
   "metadata": {},
   "outputs": [],
   "source": []
  },
  {
   "cell_type": "code",
   "execution_count": null,
   "id": "ec7b2025",
   "metadata": {},
   "outputs": [],
   "source": []
  },
  {
   "cell_type": "code",
   "execution_count": null,
   "id": "92f9900a",
   "metadata": {},
   "outputs": [],
   "source": []
  },
  {
   "cell_type": "code",
   "execution_count": null,
   "id": "8edc9fc1",
   "metadata": {},
   "outputs": [],
   "source": []
  },
  {
   "cell_type": "code",
   "execution_count": null,
   "id": "1180c488",
   "metadata": {},
   "outputs": [],
   "source": []
  }
 ],
 "metadata": {
  "kernelspec": {
   "display_name": "Python 3",
   "language": "python",
   "name": "python3"
  },
  "language_info": {
   "codemirror_mode": {
    "name": "ipython",
    "version": 3
   },
   "file_extension": ".py",
   "mimetype": "text/x-python",
   "name": "python",
   "nbconvert_exporter": "python",
   "pygments_lexer": "ipython3",
   "version": "3.8.8"
  }
 },
 "nbformat": 4,
 "nbformat_minor": 5
}
