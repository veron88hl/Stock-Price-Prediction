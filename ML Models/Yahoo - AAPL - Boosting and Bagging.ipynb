{
 "cells": [
  {
   "cell_type": "code",
   "execution_count": 52,
   "id": "31815925",
   "metadata": {},
   "outputs": [
    {
     "name": "stdout",
     "output_type": "stream",
     "text": [
      "Requirement already satisfied: yfinance in /Users/hweeli/opt/anaconda3/lib/python3.8/site-packages (0.1.69)\r\n",
      "Requirement already satisfied: requests>=2.26 in /Users/hweeli/opt/anaconda3/lib/python3.8/site-packages (from yfinance) (2.27.1)\r\n",
      "Requirement already satisfied: pandas>=0.24 in /Users/hweeli/opt/anaconda3/lib/python3.8/site-packages (from yfinance) (1.2.4)\r\n",
      "Requirement already satisfied: multitasking>=0.0.7 in /Users/hweeli/opt/anaconda3/lib/python3.8/site-packages (from yfinance) (0.0.10)\r\n",
      "Requirement already satisfied: numpy>=1.15 in /Users/hweeli/opt/anaconda3/lib/python3.8/site-packages (from yfinance) (1.19.5)\r\n",
      "Requirement already satisfied: lxml>=4.5.1 in /Users/hweeli/opt/anaconda3/lib/python3.8/site-packages (from yfinance) (4.6.3)\r\n",
      "Requirement already satisfied: python-dateutil>=2.7.3 in /Users/hweeli/opt/anaconda3/lib/python3.8/site-packages (from pandas>=0.24->yfinance) (2.8.1)\r\n",
      "Requirement already satisfied: pytz>=2017.3 in /Users/hweeli/opt/anaconda3/lib/python3.8/site-packages (from pandas>=0.24->yfinance) (2021.1)\r\n",
      "Requirement already satisfied: charset-normalizer~=2.0.0 in /Users/hweeli/opt/anaconda3/lib/python3.8/site-packages (from requests>=2.26->yfinance) (2.0.10)\r\n",
      "Requirement already satisfied: urllib3<1.27,>=1.21.1 in /Users/hweeli/opt/anaconda3/lib/python3.8/site-packages (from requests>=2.26->yfinance) (1.26.4)\r\n",
      "Requirement already satisfied: certifi>=2017.4.17 in /Users/hweeli/opt/anaconda3/lib/python3.8/site-packages (from requests>=2.26->yfinance) (2020.12.5)\r\n",
      "Requirement already satisfied: idna<4,>=2.5 in /Users/hweeli/opt/anaconda3/lib/python3.8/site-packages (from requests>=2.26->yfinance) (2.10)\r\n",
      "Requirement already satisfied: six>=1.5 in /Users/hweeli/opt/anaconda3/lib/python3.8/site-packages (from python-dateutil>=2.7.3->pandas>=0.24->yfinance) (1.15.0)\r\n"
     ]
    }
   ],
   "source": [
    "# To fetch data\n",
    "from pandas_datareader import data as pdr\n",
    "!pip install yfinance\n",
    "import yfinance as yf\n",
    "yf.pdr_override()\n",
    "\n",
    "import warnings\n",
    "warnings.filterwarnings('ignore')\n"
   ]
  },
  {
   "cell_type": "code",
   "execution_count": 53,
   "id": "d9869111",
   "metadata": {},
   "outputs": [],
   "source": [
    "#import libraries\n",
    "import numpy as np\n",
    "import pandas as pd\n",
    "import itertools\n",
    "import seaborn as sns\n",
    "import warnings\n",
    "%matplotlib inline\n",
    "import matplotlib.pyplot as plt\n",
    "import matplotlib.gridspec as gridspec\n",
    "\n",
    "from sklearn.metrics import confusion_matrix\n",
    "from sklearn.metrics import accuracy_score\n",
    "from sklearn.metrics import precision_score\n",
    "from sklearn.metrics import recall_score\n",
    "from sklearn.metrics import roc_auc_score\n",
    "from sklearn.metrics import precision_recall_curve\n",
    "from sklearn.metrics import roc_curve\n",
    "from sklearn.metrics import f1_score\n",
    "from sklearn.metrics import auc\n",
    "from sklearn.metrics import classification_report\n",
    "\n",
    "from sklearn.linear_model import LogisticRegression\n",
    "\n",
    "from sklearn.model_selection import train_test_split, KFold, cross_val_score, GridSearchCV, RandomizedSearchCV\n",
    "\n",
    "from sklearn.svm import SVC\n",
    "from sklearn.svm import LinearSVC\n",
    "\n",
    "from sklearn.naive_bayes import GaussianNB, MultinomialNB,BernoulliNB\n",
    "\n",
    "from sklearn.neighbors import KNeighborsClassifier\n",
    "\n",
    "from sklearn.tree import DecisionTreeClassifier\n",
    "\n",
    "from sklearn.ensemble import AdaBoostClassifier\n",
    "from sklearn.ensemble import BaggingClassifier\n",
    "from sklearn.ensemble import RandomForestClassifier,VotingClassifier\n",
    "\n",
    "from mlxtend.classifier import StackingClassifier\n",
    "from mlxtend.plotting import plot_learning_curves\n",
    "from mlxtend.plotting import plot_decision_regions"
   ]
  },
  {
   "cell_type": "code",
   "execution_count": 54,
   "id": "d8e1dfba",
   "metadata": {
    "scrolled": true
   },
   "outputs": [
    {
     "name": "stdout",
     "output_type": "stream",
     "text": [
      "[*********************100%***********************]  1 of 1 completed\n"
     ]
    },
    {
     "data": {
      "image/png": "[encoded data removed]",
      "text/plain": [
       "<Figure size 720x360 with 1 Axes>"
      ]
     },
     "metadata": {
      "needs_background": "light"
     },
     "output_type": "display_data"
    }
   ],
   "source": [
    "df = pdr.get_data_yahoo('AAPL', start=\"2012-01-01\", end=\"2021-12-31\")         \n",
    "df= df.dropna()\n",
    "df.Close.plot(figsize=(10,5))\n",
    "plt.ylabel(\"Apple Price\")\n",
    "plt.show()"
   ]
  },
  {
   "cell_type": "code",
   "execution_count": 55,
   "id": "c573b461",
   "metadata": {},
   "outputs": [
    {
     "data": {
      "text/html": [
       "<div>\n",
       "<style scoped>\n",
       "    .dataframe tbody tr th:only-of-type {\n",
       "        vertical-align: middle;\n",
       "    }\n",
       "\n",
       "    .dataframe tbody tr th {\n",
       "        vertical-align: top;\n",
       "    }\n",
       "\n",
       "    .dataframe thead th {\n",
       "        text-align: right;\n",
       "    }\n",
       "</style>\n",
       "<table border=\"1\" class=\"dataframe\">\n",
       "  <thead>\n",
       "    <tr style=\"text-align: right;\">\n",
       "      <th></th>\n",
       "      <th>count</th>\n",
       "      <th>mean</th>\n",
       "      <th>std</th>\n",
       "      <th>min</th>\n",
       "      <th>25%</th>\n",
       "      <th>50%</th>\n",
       "      <th>75%</th>\n",
       "      <th>max</th>\n",
       "    </tr>\n",
       "  </thead>\n",
       "  <tbody>\n",
       "    <tr>\n",
       "      <th>Open</th>\n",
       "      <td>2516.0</td>\n",
       "      <td>4.896522e+01</td>\n",
       "      <td>3.861666e+01</td>\n",
       "      <td>1.385607e+01</td>\n",
       "      <td>2.366750e+01</td>\n",
       "      <td>3.234375e+01</td>\n",
       "      <td>5.411625e+01</td>\n",
       "      <td>1.811200e+02</td>\n",
       "    </tr>\n",
       "    <tr>\n",
       "      <th>High</th>\n",
       "      <td>2516.0</td>\n",
       "      <td>4.947798e+01</td>\n",
       "      <td>3.908127e+01</td>\n",
       "      <td>1.427143e+01</td>\n",
       "      <td>2.390571e+01</td>\n",
       "      <td>3.264250e+01</td>\n",
       "      <td>5.481500e+01</td>\n",
       "      <td>1.821300e+02</td>\n",
       "    </tr>\n",
       "    <tr>\n",
       "      <th>Low</th>\n",
       "      <td>2516.0</td>\n",
       "      <td>4.846502e+01</td>\n",
       "      <td>3.817468e+01</td>\n",
       "      <td>1.375357e+01</td>\n",
       "      <td>2.341813e+01</td>\n",
       "      <td>3.208125e+01</td>\n",
       "      <td>5.333250e+01</td>\n",
       "      <td>1.785300e+02</td>\n",
       "    </tr>\n",
       "    <tr>\n",
       "      <th>Close</th>\n",
       "      <td>2516.0</td>\n",
       "      <td>4.899329e+01</td>\n",
       "      <td>3.865549e+01</td>\n",
       "      <td>1.394750e+01</td>\n",
       "      <td>2.365902e+01</td>\n",
       "      <td>3.235750e+01</td>\n",
       "      <td>5.390563e+01</td>\n",
       "      <td>1.803300e+02</td>\n",
       "    </tr>\n",
       "    <tr>\n",
       "      <th>Adj Close</th>\n",
       "      <td>2516.0</td>\n",
       "      <td>4.717291e+01</td>\n",
       "      <td>3.924251e+01</td>\n",
       "      <td>1.211916e+01</td>\n",
       "      <td>2.122447e+01</td>\n",
       "      <td>2.953966e+01</td>\n",
       "      <td>5.224932e+01</td>\n",
       "      <td>1.801005e+02</td>\n",
       "    </tr>\n",
       "    <tr>\n",
       "      <th>Volume</th>\n",
       "      <td>2516.0</td>\n",
       "      <td>2.151439e+08</td>\n",
       "      <td>1.758699e+08</td>\n",
       "      <td>4.100000e+07</td>\n",
       "      <td>1.032077e+08</td>\n",
       "      <td>1.513560e+08</td>\n",
       "      <td>2.652520e+08</td>\n",
       "      <td>1.506120e+09</td>\n",
       "    </tr>\n",
       "  </tbody>\n",
       "</table>\n",
       "</div>"
      ],
      "text/plain": [
       "            count          mean           std           min           25%  \\\n",
       "Open       2516.0  4.896522e+01  3.861666e+01  1.385607e+01  2.366750e+01   \n",
       "High       2516.0  4.947798e+01  3.908127e+01  1.427143e+01  2.390571e+01   \n",
       "Low        2516.0  4.846502e+01  3.817468e+01  1.375357e+01  2.341813e+01   \n",
       "Close      2516.0  4.899329e+01  3.865549e+01  1.394750e+01  2.365902e+01   \n",
       "Adj Close  2516.0  4.717291e+01  3.924251e+01  1.211916e+01  2.122447e+01   \n",
       "Volume     2516.0  2.151439e+08  1.758699e+08  4.100000e+07  1.032077e+08   \n",
       "\n",
       "                    50%           75%           max  \n",
       "Open       3.234375e+01  5.411625e+01  1.811200e+02  \n",
       "High       3.264250e+01  5.481500e+01  1.821300e+02  \n",
       "Low        3.208125e+01  5.333250e+01  1.785300e+02  \n",
       "Close      3.235750e+01  5.390563e+01  1.803300e+02  \n",
       "Adj Close  2.953966e+01  5.224932e+01  1.801005e+02  \n",
       "Volume     1.513560e+08  2.652520e+08  1.506120e+09  "
      ]
     },
     "execution_count": 55,
     "metadata": {},
     "output_type": "execute_result"
    }
   ],
   "source": [
    "df.describe().T"
   ]
  },
  {
   "cell_type": "code",
   "execution_count": 56,
   "id": "a45d7a12",
   "metadata": {},
   "outputs": [
    {
     "name": "stdout",
     "output_type": "stream",
     "text": [
      "- Number of features: 6\n",
      "  - Open\n",
      "  - High\n",
      "  - Low\n",
      "  - Close\n",
      "  - Adj Close\n",
      "  - Volume\n"
     ]
    }
   ],
   "source": [
    "# Number of features\n",
    "print('- Number of features: %d' % df.shape[1])\n",
    "for c in df.columns:\n",
    "    print('  - %s' % c)"
   ]
  },
  {
   "cell_type": "code",
   "execution_count": 57,
   "id": "039d6fbe",
   "metadata": {},
   "outputs": [
    {
     "data": {
      "text/plain": [
       "Open         float64\n",
       "High         float64\n",
       "Low          float64\n",
       "Close        float64\n",
       "Adj Close    float64\n",
       "Volume         int64\n",
       "dtype: object"
      ]
     },
     "execution_count": 57,
     "metadata": {},
     "output_type": "execute_result"
    }
   ],
   "source": [
    "#data types\n",
    "df.dtypes"
   ]
  },
  {
   "cell_type": "code",
   "execution_count": 58,
   "id": "1e2976b2",
   "metadata": {},
   "outputs": [
    {
     "data": {
      "text/html": [
       "<div>\n",
       "<style scoped>\n",
       "    .dataframe tbody tr th:only-of-type {\n",
       "        vertical-align: middle;\n",
       "    }\n",
       "\n",
       "    .dataframe tbody tr th {\n",
       "        vertical-align: top;\n",
       "    }\n",
       "\n",
       "    .dataframe thead th {\n",
       "        text-align: right;\n",
       "    }\n",
       "</style>\n",
       "<table border=\"1\" class=\"dataframe\">\n",
       "  <thead>\n",
       "    <tr style=\"text-align: right;\">\n",
       "      <th></th>\n",
       "      <th>Open</th>\n",
       "      <th>High</th>\n",
       "      <th>Low</th>\n",
       "      <th>Close</th>\n",
       "      <th>Adj Close</th>\n",
       "      <th>Volume</th>\n",
       "    </tr>\n",
       "    <tr>\n",
       "      <th>Date</th>\n",
       "      <th></th>\n",
       "      <th></th>\n",
       "      <th></th>\n",
       "      <th></th>\n",
       "      <th></th>\n",
       "      <th></th>\n",
       "    </tr>\n",
       "  </thead>\n",
       "  <tbody>\n",
       "    <tr>\n",
       "      <th>2012-01-03</th>\n",
       "      <td>14.621429</td>\n",
       "      <td>14.732143</td>\n",
       "      <td>14.607143</td>\n",
       "      <td>14.686786</td>\n",
       "      <td>12.575915</td>\n",
       "      <td>302220800</td>\n",
       "    </tr>\n",
       "    <tr>\n",
       "      <th>2012-01-04</th>\n",
       "      <td>14.642857</td>\n",
       "      <td>14.810000</td>\n",
       "      <td>14.617143</td>\n",
       "      <td>14.765714</td>\n",
       "      <td>12.643497</td>\n",
       "      <td>260022000</td>\n",
       "    </tr>\n",
       "    <tr>\n",
       "      <th>2012-01-05</th>\n",
       "      <td>14.819643</td>\n",
       "      <td>14.948214</td>\n",
       "      <td>14.738214</td>\n",
       "      <td>14.929643</td>\n",
       "      <td>12.783867</td>\n",
       "      <td>271269600</td>\n",
       "    </tr>\n",
       "    <tr>\n",
       "      <th>2012-01-06</th>\n",
       "      <td>14.991786</td>\n",
       "      <td>15.098214</td>\n",
       "      <td>14.972143</td>\n",
       "      <td>15.085714</td>\n",
       "      <td>12.917507</td>\n",
       "      <td>318292800</td>\n",
       "    </tr>\n",
       "    <tr>\n",
       "      <th>2012-01-09</th>\n",
       "      <td>15.196429</td>\n",
       "      <td>15.276786</td>\n",
       "      <td>15.048214</td>\n",
       "      <td>15.061786</td>\n",
       "      <td>12.897018</td>\n",
       "      <td>394024400</td>\n",
       "    </tr>\n",
       "    <tr>\n",
       "      <th>...</th>\n",
       "      <td>...</td>\n",
       "      <td>...</td>\n",
       "      <td>...</td>\n",
       "      <td>...</td>\n",
       "      <td>...</td>\n",
       "      <td>...</td>\n",
       "    </tr>\n",
       "    <tr>\n",
       "      <th>2021-12-23</th>\n",
       "      <td>175.850006</td>\n",
       "      <td>176.850006</td>\n",
       "      <td>175.270004</td>\n",
       "      <td>176.279999</td>\n",
       "      <td>176.055695</td>\n",
       "      <td>68356600</td>\n",
       "    </tr>\n",
       "    <tr>\n",
       "      <th>2021-12-27</th>\n",
       "      <td>177.089996</td>\n",
       "      <td>180.419998</td>\n",
       "      <td>177.070007</td>\n",
       "      <td>180.330002</td>\n",
       "      <td>180.100540</td>\n",
       "      <td>74919600</td>\n",
       "    </tr>\n",
       "    <tr>\n",
       "      <th>2021-12-28</th>\n",
       "      <td>180.160004</td>\n",
       "      <td>181.330002</td>\n",
       "      <td>178.529999</td>\n",
       "      <td>179.289993</td>\n",
       "      <td>179.061859</td>\n",
       "      <td>79144300</td>\n",
       "    </tr>\n",
       "    <tr>\n",
       "      <th>2021-12-29</th>\n",
       "      <td>179.330002</td>\n",
       "      <td>180.630005</td>\n",
       "      <td>178.139999</td>\n",
       "      <td>179.380005</td>\n",
       "      <td>179.151749</td>\n",
       "      <td>62348900</td>\n",
       "    </tr>\n",
       "    <tr>\n",
       "      <th>2021-12-30</th>\n",
       "      <td>179.470001</td>\n",
       "      <td>180.570007</td>\n",
       "      <td>178.089996</td>\n",
       "      <td>178.199997</td>\n",
       "      <td>177.973251</td>\n",
       "      <td>59773000</td>\n",
       "    </tr>\n",
       "  </tbody>\n",
       "</table>\n",
       "<p>2516 rows × 6 columns</p>\n",
       "</div>"
      ],
      "text/plain": [
       "                  Open        High         Low       Close   Adj Close  \\\n",
       "Date                                                                     \n",
       "2012-01-03   14.621429   14.732143   14.607143   14.686786   12.575915   \n",
       "2012-01-04   14.642857   14.810000   14.617143   14.765714   12.643497   \n",
       "2012-01-05   14.819643   14.948214   14.738214   14.929643   12.783867   \n",
       "2012-01-06   14.991786   15.098214   14.972143   15.085714   12.917507   \n",
       "2012-01-09   15.196429   15.276786   15.048214   15.061786   12.897018   \n",
       "...                ...         ...         ...         ...         ...   \n",
       "2021-12-23  175.850006  176.850006  175.270004  176.279999  176.055695   \n",
       "2021-12-27  177.089996  180.419998  177.070007  180.330002  180.100540   \n",
       "2021-12-28  180.160004  181.330002  178.529999  179.289993  179.061859   \n",
       "2021-12-29  179.330002  180.630005  178.139999  179.380005  179.151749   \n",
       "2021-12-30  179.470001  180.570007  178.089996  178.199997  177.973251   \n",
       "\n",
       "               Volume  \n",
       "Date                   \n",
       "2012-01-03  302220800  \n",
       "2012-01-04  260022000  \n",
       "2012-01-05  271269600  \n",
       "2012-01-06  318292800  \n",
       "2012-01-09  394024400  \n",
       "...               ...  \n",
       "2021-12-23   68356600  \n",
       "2021-12-27   74919600  \n",
       "2021-12-28   79144300  \n",
       "2021-12-29   62348900  \n",
       "2021-12-30   59773000  \n",
       "\n",
       "[2516 rows x 6 columns]"
      ]
     },
     "execution_count": 58,
     "metadata": {},
     "output_type": "execute_result"
    }
   ],
   "source": [
    "df"
   ]
  },
  {
   "cell_type": "code",
   "execution_count": null,
   "id": "36a29b6f",
   "metadata": {},
   "outputs": [],
   "source": []
  },
  {
   "cell_type": "markdown",
   "id": "793e4941",
   "metadata": {},
   "source": [
    "#### Split Train and Test"
   ]
  },
  {
   "cell_type": "code",
   "execution_count": 59,
   "id": "0cb1ea4e",
   "metadata": {},
   "outputs": [],
   "source": [
    "target_col = \"Close\"\n",
    "X = df[[col for col in df.columns if col != target_col]]\n",
    "y = np.where(df['Close'].shift(-1) > df['Close'],1,-1)\n",
    "#X_train, X_test, y_train, y_test = train_test_split(X, y, test_size = 0.2, random_state=42, shuffle=False)\n",
    "#'y' is a target dataset storing the correct trading signal which the machine learning algorithm will try to predict."
   ]
  },
  {
   "cell_type": "code",
   "execution_count": 60,
   "id": "7c8e2b58",
   "metadata": {},
   "outputs": [
    {
     "name": "stdout",
     "output_type": "stream",
     "text": [
      "Total Observations: 2516\n",
      "Training Observations: 2012\n",
      "Testing Observations: 504\n"
     ]
    }
   ],
   "source": [
    "train_size = int(len(X) * 0.8)\n",
    "train, test = X[0:train_size], X[train_size:len(X)]\n",
    "print('Total Observations: %d' % (len(X)))\n",
    "print('Training Observations: %d' % (len(train)))\n",
    "print('Testing Observations: %d' % (len(test)))"
   ]
  },
  {
   "cell_type": "code",
   "execution_count": 61,
   "id": "074951ec",
   "metadata": {},
   "outputs": [],
   "source": [
    "# Train data set\n",
    "X_train = X[:train_size]\n",
    "y_train = y[:train_size] \n",
    "\n",
    "# Test data set\n",
    "X_test = X[train_size:]\n",
    "y_test = y[train_size:]"
   ]
  },
  {
   "cell_type": "code",
   "execution_count": 62,
   "id": "1c44f6c5",
   "metadata": {},
   "outputs": [],
   "source": [
    "from sklearn.preprocessing import MinMaxScaler\n",
    "scaler = MinMaxScaler (feature_range =(0,1))\n",
    "X_train = scaler.fit_transform(X_train)\n",
    "X_test= scaler.fit_transform(X_test)"
   ]
  },
  {
   "cell_type": "markdown",
   "id": "a8c946be",
   "metadata": {},
   "source": [
    "###### Supervised Model - Logistics Regression"
   ]
  },
  {
   "cell_type": "code",
   "execution_count": 63,
   "id": "50bc1bb5",
   "metadata": {},
   "outputs": [
    {
     "data": {
      "text/plain": [
       "LogisticRegression()"
      ]
     },
     "execution_count": 63,
     "metadata": {},
     "output_type": "execute_result"
    }
   ],
   "source": [
    "logreg = LogisticRegression(penalty='l2')\n",
    "logreg.fit(X_train, y_train)"
   ]
  },
  {
   "cell_type": "code",
   "execution_count": 64,
   "id": "c20fd975",
   "metadata": {},
   "outputs": [
    {
     "data": {
      "text/plain": [
       "BaggingClassifier(base_estimator=LogisticRegression(), max_features=0.8,\n",
       "                  max_samples=0.8, n_estimators=100)"
      ]
     },
     "execution_count": 64,
     "metadata": {},
     "output_type": "execute_result"
    }
   ],
   "source": [
    "bag1 = BaggingClassifier(\n",
    "    base_estimator = logreg,\n",
    "    n_estimators = 100,\n",
    "    max_samples = 0.8,\n",
    "    max_features = 0.8)\n",
    "bag1.fit(X_train, y_train)"
   ]
  },
  {
   "cell_type": "code",
   "execution_count": 65,
   "id": "352549d1",
   "metadata": {},
   "outputs": [
    {
     "data": {
      "text/plain": [
       "0.5376984126984127"
      ]
     },
     "execution_count": 65,
     "metadata": {},
     "output_type": "execute_result"
    }
   ],
   "source": [
    "logreg.score(X_test, y_test)"
   ]
  },
  {
   "cell_type": "code",
   "execution_count": 66,
   "id": "85347f7d",
   "metadata": {},
   "outputs": [
    {
     "data": {
      "text/plain": [
       "0.5396825396825397"
      ]
     },
     "execution_count": 66,
     "metadata": {},
     "output_type": "execute_result"
    }
   ],
   "source": [
    "bag1.score(X_test, y_test)"
   ]
  },
  {
   "cell_type": "code",
   "execution_count": 67,
   "id": "25eb9d4d",
   "metadata": {},
   "outputs": [
    {
     "name": "stdout",
     "output_type": "stream",
     "text": [
      "accuracy = 0.5204\n"
     ]
    }
   ],
   "source": [
    "y_pred_class = logreg.predict(X_train)\n",
    "print('accuracy = %.4f' %\n",
    "      accuracy_score(y_train, y_pred_class))"
   ]
  },
  {
   "cell_type": "code",
   "execution_count": 68,
   "id": "02ee1d0e",
   "metadata": {},
   "outputs": [
    {
     "name": "stdout",
     "output_type": "stream",
     "text": [
      "accuracy = 0.5377\n"
     ]
    }
   ],
   "source": [
    "y_pred_class = logreg.predict(X_test)\n",
    "print('accuracy = %.4f' %\n",
    "      accuracy_score(y_test, y_pred_class))"
   ]
  },
  {
   "cell_type": "code",
   "execution_count": null,
   "id": "57242490",
   "metadata": {},
   "outputs": [],
   "source": []
  },
  {
   "cell_type": "markdown",
   "id": "684d0475",
   "metadata": {},
   "source": [
    "###### Supervised Model - LInear SVC"
   ]
  },
  {
   "cell_type": "code",
   "execution_count": 69,
   "id": "0570ff6b",
   "metadata": {},
   "outputs": [],
   "source": [
    "svc = SVC(C=10) #best C value derived from another notebook"
   ]
  },
  {
   "cell_type": "code",
   "execution_count": 70,
   "id": "04ccf90b",
   "metadata": {},
   "outputs": [
    {
     "data": {
      "text/plain": [
       "SVC(C=10)"
      ]
     },
     "execution_count": 70,
     "metadata": {},
     "output_type": "execute_result"
    }
   ],
   "source": [
    "svc.fit(X_train, y_train)"
   ]
  },
  {
   "cell_type": "code",
   "execution_count": 71,
   "id": "b4a87238",
   "metadata": {},
   "outputs": [
    {
     "data": {
      "text/plain": [
       "BaggingClassifier(base_estimator=SVC(C=10), max_features=0.8, max_samples=0.8,\n",
       "                  n_estimators=100)"
      ]
     },
     "execution_count": 71,
     "metadata": {},
     "output_type": "execute_result"
    }
   ],
   "source": [
    "bag2 = BaggingClassifier(\n",
    "    base_estimator = svc,\n",
    "    n_estimators = 100,\n",
    "    max_samples = 0.8,\n",
    "    max_features = 0.8)\n",
    "bag2.fit(X_train, y_train)"
   ]
  },
  {
   "cell_type": "code",
   "execution_count": 72,
   "id": "2da15ac4",
   "metadata": {},
   "outputs": [
    {
     "data": {
      "text/plain": [
       "0.503968253968254"
      ]
     },
     "execution_count": 72,
     "metadata": {},
     "output_type": "execute_result"
    }
   ],
   "source": [
    "svc.score(X_test, y_test)"
   ]
  },
  {
   "cell_type": "code",
   "execution_count": 73,
   "id": "f45ef4e9",
   "metadata": {},
   "outputs": [
    {
     "data": {
      "text/plain": [
       "0.5158730158730159"
      ]
     },
     "execution_count": 73,
     "metadata": {},
     "output_type": "execute_result"
    }
   ],
   "source": [
    "bag2.score(X_test, y_test)"
   ]
  },
  {
   "cell_type": "markdown",
   "id": "612aaffc",
   "metadata": {},
   "source": [
    "###### Supervised Model - Gaussian NB"
   ]
  },
  {
   "cell_type": "code",
   "execution_count": 74,
   "id": "98d54821",
   "metadata": {},
   "outputs": [
    {
     "data": {
      "text/plain": [
       "GaussianNB()"
      ]
     },
     "execution_count": 74,
     "metadata": {},
     "output_type": "execute_result"
    }
   ],
   "source": [
    "nb = GaussianNB()\n",
    "nb.fit(X_train,y_train)"
   ]
  },
  {
   "cell_type": "code",
   "execution_count": 75,
   "id": "0b1fd632",
   "metadata": {},
   "outputs": [
    {
     "data": {
      "text/plain": [
       "BaggingClassifier(base_estimator=GaussianNB(), max_features=0.8,\n",
       "                  max_samples=0.8, n_estimators=100)"
      ]
     },
     "execution_count": 75,
     "metadata": {},
     "output_type": "execute_result"
    }
   ],
   "source": [
    "bag3 = BaggingClassifier(\n",
    "    base_estimator = nb,\n",
    "    n_estimators = 100,\n",
    "    max_samples = 0.8,\n",
    "    max_features = 0.8)\n",
    "bag3.fit(X_train, y_train)"
   ]
  },
  {
   "cell_type": "code",
   "execution_count": 76,
   "id": "7ea6576b",
   "metadata": {},
   "outputs": [
    {
     "data": {
      "text/plain": [
       "0.5"
      ]
     },
     "execution_count": 76,
     "metadata": {},
     "output_type": "execute_result"
    }
   ],
   "source": [
    "nb.score(X_test, y_test)"
   ]
  },
  {
   "cell_type": "code",
   "execution_count": 77,
   "id": "03fa9d3a",
   "metadata": {},
   "outputs": [
    {
     "data": {
      "text/plain": [
       "0.5059523809523809"
      ]
     },
     "execution_count": 77,
     "metadata": {},
     "output_type": "execute_result"
    }
   ],
   "source": [
    "bag3.score(X_test, y_test)"
   ]
  },
  {
   "cell_type": "code",
   "execution_count": null,
   "id": "f0f70815",
   "metadata": {},
   "outputs": [],
   "source": []
  },
  {
   "cell_type": "markdown",
   "id": "f3a11634",
   "metadata": {},
   "source": [
    "###### Unsupervised - Decision Tree"
   ]
  },
  {
   "cell_type": "code",
   "execution_count": 78,
   "id": "674b8e83",
   "metadata": {},
   "outputs": [
    {
     "data": {
      "text/plain": [
       "DecisionTreeClassifier(criterion='entropy', max_depth=1)"
      ]
     },
     "execution_count": 78,
     "metadata": {},
     "output_type": "execute_result"
    }
   ],
   "source": [
    "tree = DecisionTreeClassifier(criterion = 'entropy', max_depth =1)\n",
    "tree.fit(X_train, y_train)"
   ]
  },
  {
   "cell_type": "code",
   "execution_count": 79,
   "id": "39f14bcd",
   "metadata": {},
   "outputs": [],
   "source": [
    "bag = BaggingClassifier(\n",
    "    base_estimator = tree,\n",
    "    n_estimators = 100,\n",
    "    max_samples = 0.8,\n",
    "    max_features = 0.8)"
   ]
  },
  {
   "cell_type": "code",
   "execution_count": 80,
   "id": "1ae4993b",
   "metadata": {},
   "outputs": [
    {
     "data": {
      "text/plain": [
       "BaggingClassifier(base_estimator=DecisionTreeClassifier(criterion='entropy',\n",
       "                                                        max_depth=1),\n",
       "                  max_features=0.8, max_samples=0.8, n_estimators=100)"
      ]
     },
     "execution_count": 80,
     "metadata": {},
     "output_type": "execute_result"
    }
   ],
   "source": [
    "bag.fit(X_train, y_train)"
   ]
  },
  {
   "cell_type": "code",
   "execution_count": 81,
   "id": "dffc4a85",
   "metadata": {},
   "outputs": [
    {
     "data": {
      "text/plain": [
       "0.5158730158730159"
      ]
     },
     "execution_count": 81,
     "metadata": {},
     "output_type": "execute_result"
    }
   ],
   "source": [
    "bag.score(X_test, y_test)"
   ]
  },
  {
   "cell_type": "code",
   "execution_count": 82,
   "id": "4d395f16",
   "metadata": {},
   "outputs": [
    {
     "data": {
      "text/plain": [
       "0.5357142857142857"
      ]
     },
     "execution_count": 82,
     "metadata": {},
     "output_type": "execute_result"
    }
   ],
   "source": [
    "tree.score(X_test, y_test)"
   ]
  },
  {
   "cell_type": "code",
   "execution_count": 83,
   "id": "8fbb0410",
   "metadata": {},
   "outputs": [
    {
     "name": "stdout",
     "output_type": "stream",
     "text": [
      "accuracy = 0.5244\n"
     ]
    }
   ],
   "source": [
    "y_pred_class = tree.predict(X_train)\n",
    "print('accuracy = %.4f' %\n",
    "      accuracy_score(y_train, y_pred_class))"
   ]
  },
  {
   "cell_type": "code",
   "execution_count": 84,
   "id": "e77e427e",
   "metadata": {},
   "outputs": [
    {
     "name": "stdout",
     "output_type": "stream",
     "text": [
      "accuracy = 0.5357\n"
     ]
    }
   ],
   "source": [
    "y_pred_class = tree.predict(X_test)\n",
    "print('accuracy = %.4f' %\n",
    "      accuracy_score(y_test, y_pred_class))"
   ]
  },
  {
   "cell_type": "code",
   "execution_count": 85,
   "id": "4db169c0",
   "metadata": {},
   "outputs": [
    {
     "data": {
      "text/plain": [
       "0.5178571428571429"
      ]
     },
     "execution_count": 85,
     "metadata": {},
     "output_type": "execute_result"
    }
   ],
   "source": [
    "boosting = AdaBoostClassifier(base_estimator = tree, n_estimators = 20)\n",
    "boosting.fit(X_train, y_train)\n",
    "boosting.score(X_test, y_test)"
   ]
  },
  {
   "cell_type": "code",
   "execution_count": 86,
   "id": "01efa025",
   "metadata": {},
   "outputs": [
    {
     "data": {
      "text/plain": [
       "0.5357142857142857"
      ]
     },
     "execution_count": 86,
     "metadata": {},
     "output_type": "execute_result"
    }
   ],
   "source": [
    "boosting = AdaBoostClassifier(base_estimator = logreg, n_estimators = 20)\n",
    "boosting.fit(X_train, y_train)\n",
    "boosting.score(X_test, y_test)"
   ]
  },
  {
   "cell_type": "code",
   "execution_count": 87,
   "id": "f0d3d335",
   "metadata": {},
   "outputs": [
    {
     "data": {
      "text/plain": [
       "0.5376984126984127"
      ]
     },
     "execution_count": 87,
     "metadata": {},
     "output_type": "execute_result"
    }
   ],
   "source": [
    "boosting = AdaBoostClassifier(base_estimator = nb, n_estimators = 20)\n",
    "boosting.fit(X_train, y_train)\n",
    "boosting.score(X_test, y_test)"
   ]
  },
  {
   "cell_type": "code",
   "execution_count": 88,
   "id": "157be30d",
   "metadata": {},
   "outputs": [
    {
     "data": {
      "text/plain": [
       "0.4861111111111111"
      ]
     },
     "execution_count": 88,
     "metadata": {},
     "output_type": "execute_result"
    }
   ],
   "source": [
    "ada = AdaBoostClassifier()\n",
    "ada.fit(X_train,y_train)\n",
    "ada.score(X_test, y_test)"
   ]
  },
  {
   "cell_type": "code",
   "execution_count": 89,
   "id": "1beea7e3",
   "metadata": {},
   "outputs": [
    {
     "name": "stdout",
     "output_type": "stream",
     "text": [
      "Requirement already satisfied: xgboost in /Users/hweeli/opt/anaconda3/lib/python3.8/site-packages (1.5.1)\r\n",
      "Requirement already satisfied: scipy in /Users/hweeli/opt/anaconda3/lib/python3.8/site-packages (from xgboost) (1.6.2)\r\n",
      "Requirement already satisfied: numpy in /Users/hweeli/opt/anaconda3/lib/python3.8/site-packages (from xgboost) (1.19.5)\r\n"
     ]
    }
   ],
   "source": [
    "!pip install xgboost\n",
    "from xgboost import XGBClassifier"
   ]
  },
  {
   "cell_type": "code",
   "execution_count": 90,
   "id": "69325eba",
   "metadata": {},
   "outputs": [
    {
     "name": "stdout",
     "output_type": "stream",
     "text": [
      "[12:57:21] WARNING: /Users/runner/work/xgboost/xgboost/src/learner.cc:1115: Starting in XGBoost 1.3.0, the default evaluation metric used with the objective 'binary:logistic' was changed from 'error' to 'logloss'. Explicitly set eval_metric if you'd like to restore the old behavior.\n"
     ]
    },
    {
     "data": {
      "text/plain": [
       "0.5238095238095238"
      ]
     },
     "execution_count": 90,
     "metadata": {},
     "output_type": "execute_result"
    }
   ],
   "source": [
    "xg = XGBClassifier()\n",
    "xg.fit(X_train, y_train)\n",
    "xg.score(X_test, y_test)"
   ]
  },
  {
   "cell_type": "code",
   "execution_count": 102,
   "id": "8c00d546",
   "metadata": {},
   "outputs": [
    {
     "name": "stdout",
     "output_type": "stream",
     "text": [
      "[13:01:25] WARNING: /Users/runner/work/xgboost/xgboost/src/learner.cc:576: \n",
      "Parameters: { \"base_estimator\" } might not be used.\n",
      "\n",
      "  This could be a false alarm, with some parameters getting used by language bindings but\n",
      "  then being mistakenly passed down to XGBoost core, or some parameter actually being used\n",
      "  but getting flagged wrongly here. Please open an issue if you find any such cases.\n",
      "\n",
      "\n",
      "[13:01:25] WARNING: /Users/runner/work/xgboost/xgboost/src/learner.cc:1115: Starting in XGBoost 1.3.0, the default evaluation metric used with the objective 'binary:logistic' was changed from 'error' to 'logloss'. Explicitly set eval_metric if you'd like to restore the old behavior.\n"
     ]
    },
    {
     "data": {
      "text/plain": [
       "0.4781456953642384"
      ]
     },
     "execution_count": 102,
     "metadata": {},
     "output_type": "execute_result"
    }
   ],
   "source": [
    "boosting = XGBClassifier(base_estimator = logreg, n_estimators = 20)\n",
    "boosting.fit(X_train, y_train)\n",
    "boosting.score(X_test, y_test)"
   ]
  },
  {
   "cell_type": "code",
   "execution_count": null,
   "id": "c37285ec",
   "metadata": {},
   "outputs": [],
   "source": []
  },
  {
   "cell_type": "code",
   "execution_count": 91,
   "id": "1a4a4d81",
   "metadata": {},
   "outputs": [
    {
     "data": {
      "image/png": "[encoded data removed]",
      "text/plain": [
       "<Figure size 432x288 with 1 Axes>"
      ]
     },
     "metadata": {
      "needs_background": "light"
     },
     "output_type": "display_data"
    }
   ],
   "source": [
    "#plot learning curves - logreg\n",
    "np.random.seed(2534)\n",
    "X_train, X_test, y_train, y_test = train_test_split(X, y, test_size = 0.3)\n",
    "    \n",
    "plt.figure()\n",
    "plot_learning_curves(X_train, y_train, X_test, y_test, bag1, print_model = False, style = 'ggplot')\n",
    "plt.show()"
   ]
  },
  {
   "cell_type": "code",
   "execution_count": 92,
   "id": "568bf48b",
   "metadata": {},
   "outputs": [
    {
     "data": {
      "image/png": "[encoded data removed]",
      "text/plain": [
       "<Figure size 432x288 with 1 Axes>"
      ]
     },
     "metadata": {
      "needs_background": "light"
     },
     "output_type": "display_data"
    }
   ],
   "source": [
    "# plot learning curves - tree\n",
    "np.random.seed(2534)\n",
    "X_train, X_test, y_train, y_test = train_test_split(X, y, test_size = 0.3)\n",
    "    \n",
    "plt.figure()\n",
    "plot_learning_curves(X_train, y_train, X_test, y_test, bag, print_model = False, style = 'ggplot')\n",
    "plt.show()"
   ]
  },
  {
   "cell_type": "code",
   "execution_count": 93,
   "id": "3085893f",
   "metadata": {},
   "outputs": [
    {
     "data": {
      "image/png": "[encoded data removed]",
      "text/plain": [
       "<Figure size 432x288 with 1 Axes>"
      ]
     },
     "metadata": {
      "needs_background": "light"
     },
     "output_type": "display_data"
    }
   ],
   "source": [
    "# plot learning curves - svc\n",
    "np.random.seed(2534)\n",
    "X_train, X_test, y_train, y_test = train_test_split(X, y, test_size = 0.3)\n",
    "    \n",
    "plt.figure()\n",
    "plot_learning_curves(X_train, y_train, X_test, y_test, bag2, print_model = False, style = 'ggplot')\n",
    "plt.show()"
   ]
  },
  {
   "cell_type": "code",
   "execution_count": 94,
   "id": "6352782e",
   "metadata": {},
   "outputs": [],
   "source": [
    "# Ensemble Size - tree\n",
    "num_est = np.linspace(1, 100, 20, dtype = np.int8)\n",
    "\n",
    "np.random.seed(2534)\n",
    "\n",
    "bg_clf_cv_mean = []\n",
    "bg_clf_cv_std = []\n",
    "for n_est in num_est:    \n",
    "    bg_clf = BaggingClassifier(\n",
    "        base_estimator = tree,\n",
    "        n_estimators = n_est,\n",
    "        max_samples = 0.8,\n",
    "        max_features = 0.8)\n",
    "    scores = cross_val_score(bg_clf, X, y, cv = 3, scoring = 'accuracy')\n",
    "    bg_clf_cv_mean.append(scores.mean())\n",
    "    bg_clf_cv_std.append(scores.std())"
   ]
  },
  {
   "cell_type": "code",
   "execution_count": 95,
   "id": "a079779f",
   "metadata": {},
   "outputs": [
    {
     "data": {
      "image/png": "[encoded data removed]",
      "text/plain": [
       "<Figure size 432x288 with 1 Axes>"
      ]
     },
     "metadata": {
      "needs_background": "light"
     },
     "output_type": "display_data"
    }
   ],
   "source": [
    "plt.figure()\n",
    "(_, caps, _) = plt.errorbar(\n",
    "    num_est,\n",
    "    bg_clf_cv_mean,\n",
    "    yerr = bg_clf_cv_std,\n",
    "    c = 'blue',\n",
    "    fmt = '-o',\n",
    "    capsize = 5)\n",
    "\n",
    "for cap in caps:\n",
    "    cap.set_markeredgewidth(1)                                                                                                                                \n",
    "\n",
    "plt.title('Bagging Tree Ensemble')\n",
    "plt.ylabel('Accuracy')\n",
    "plt.xlabel('Ensemble Size')\n",
    "plt.show()"
   ]
  },
  {
   "cell_type": "code",
   "execution_count": null,
   "id": "f346b42c",
   "metadata": {},
   "outputs": [],
   "source": []
  },
  {
   "cell_type": "code",
   "execution_count": 96,
   "id": "fbd72833",
   "metadata": {},
   "outputs": [],
   "source": [
    "clf1 = SVC(C=10)\n",
    "clf2 = RandomForestClassifier(n_estimators = 100, random_state = 42)\n",
    "#clf2 = RandomForestClassifier(n_estimators = 10)\n",
    "clf3 = GaussianNB()\n",
    "lr = LogisticRegression(multi_class = 'auto', solver = 'lbfgs')\n",
    "sclf = StackingClassifier(\n",
    "    classifiers = [clf1, clf2, clf3],\n",
    "    meta_classifier = lr)"
   ]
  },
  {
   "cell_type": "code",
   "execution_count": 97,
   "id": "9951ca2c",
   "metadata": {},
   "outputs": [
    {
     "data": {
      "text/plain": [
       "StackingClassifier(classifiers=[SVC(C=10),\n",
       "                                RandomForestClassifier(random_state=42),\n",
       "                                GaussianNB()],\n",
       "                   meta_classifier=LogisticRegression())"
      ]
     },
     "execution_count": 97,
     "metadata": {},
     "output_type": "execute_result"
    }
   ],
   "source": [
    "sclf.fit(X_train, y_train)"
   ]
  },
  {
   "cell_type": "code",
   "execution_count": 98,
   "id": "68c34277",
   "metadata": {},
   "outputs": [
    {
     "data": {
      "text/plain": [
       "0.5059602649006623"
      ]
     },
     "execution_count": 98,
     "metadata": {},
     "output_type": "execute_result"
    }
   ],
   "source": [
    "sclf.score(X_test, y_test)"
   ]
  },
  {
   "cell_type": "code",
   "execution_count": 99,
   "id": "235060af",
   "metadata": {},
   "outputs": [
    {
     "name": "stdout",
     "output_type": "stream",
     "text": [
      "0.5059602649006623\n",
      "0.5060931823941877\n"
     ]
    }
   ],
   "source": [
    "y_test_pred = sclf.predict(X_test)\n",
    "print(accuracy_score(y_test, y_test_pred))\n",
    "print(roc_auc_score(y_test, y_test_pred))"
   ]
  },
  {
   "cell_type": "code",
   "execution_count": 100,
   "id": "c55c3ddc",
   "metadata": {},
   "outputs": [
    {
     "data": {
      "image/png": "[encoded data removed]",
      "text/plain": [
       "<Figure size 432x288 with 1 Axes>"
      ]
     },
     "metadata": {
      "needs_background": "light"
     },
     "output_type": "display_data"
    }
   ],
   "source": [
    "plt.figure()\n",
    "plot_learning_curves(X_train, y_train, X_test, y_test, sclf, print_model = False, style = 'ggplot')\n",
    "plt.show()"
   ]
  },
  {
   "cell_type": "code",
   "execution_count": 108,
   "id": "5844d915",
   "metadata": {},
   "outputs": [
    {
     "name": "stdout",
     "output_type": "stream",
     "text": [
      "Accuracy: 0.52 (+/- 0.01) [SVC]\n"
     ]
    },
    {
     "ename": "ValueError",
     "evalue": "Filler values must be provided when X has more than 2 training features.",
     "output_type": "error",
     "traceback": [
      "\u001b[0;31m---------------------------------------------------------------------------\u001b[0m",
      "\u001b[0;31mValueError\u001b[0m                                Traceback (most recent call last)",
      "\u001b[0;32m<ipython-input-108-786854ff2348>\u001b[0m in \u001b[0;36m<module>\u001b[0;34m\u001b[0m\n\u001b[1;32m     18\u001b[0m     \u001b[0mclf\u001b[0m\u001b[0;34m.\u001b[0m\u001b[0mfit\u001b[0m\u001b[0;34m(\u001b[0m\u001b[0mX\u001b[0m\u001b[0;34m,\u001b[0m \u001b[0my\u001b[0m\u001b[0;34m)\u001b[0m\u001b[0;34m\u001b[0m\u001b[0;34m\u001b[0m\u001b[0m\n\u001b[1;32m     19\u001b[0m     \u001b[0max\u001b[0m \u001b[0;34m=\u001b[0m \u001b[0mplt\u001b[0m\u001b[0;34m.\u001b[0m\u001b[0msubplot\u001b[0m\u001b[0;34m(\u001b[0m\u001b[0mgs\u001b[0m\u001b[0;34m[\u001b[0m\u001b[0mgrd\u001b[0m\u001b[0;34m[\u001b[0m\u001b[0;36m0\u001b[0m\u001b[0;34m]\u001b[0m\u001b[0;34m,\u001b[0m \u001b[0mgrd\u001b[0m\u001b[0;34m[\u001b[0m\u001b[0;36m1\u001b[0m\u001b[0;34m]\u001b[0m\u001b[0;34m]\u001b[0m\u001b[0;34m)\u001b[0m\u001b[0;34m\u001b[0m\u001b[0;34m\u001b[0m\u001b[0m\n\u001b[0;32m---> 20\u001b[0;31m     \u001b[0mfig\u001b[0m \u001b[0;34m=\u001b[0m \u001b[0mplot_decision_regions\u001b[0m\u001b[0;34m(\u001b[0m\u001b[0mX\u001b[0m \u001b[0;34m=\u001b[0m \u001b[0mX_1\u001b[0m\u001b[0;34m,\u001b[0m \u001b[0my\u001b[0m \u001b[0;34m=\u001b[0m \u001b[0my_1\u001b[0m\u001b[0;34m,\u001b[0m \u001b[0mclf\u001b[0m \u001b[0;34m=\u001b[0m \u001b[0mclf\u001b[0m\u001b[0;34m)\u001b[0m\u001b[0;34m\u001b[0m\u001b[0;34m\u001b[0m\u001b[0m\n\u001b[0m\u001b[1;32m     21\u001b[0m     \u001b[0mplt\u001b[0m\u001b[0;34m.\u001b[0m\u001b[0mtitle\u001b[0m\u001b[0;34m(\u001b[0m\u001b[0mlabel\u001b[0m\u001b[0;34m)\u001b[0m\u001b[0;34m\u001b[0m\u001b[0;34m\u001b[0m\u001b[0m\n\u001b[1;32m     22\u001b[0m \u001b[0;34m\u001b[0m\u001b[0m\n",
      "\u001b[0;32m~/opt/anaconda3/lib/python3.8/site-packages/mlxtend/plotting/decision_regions.py\u001b[0m in \u001b[0;36mplot_decision_regions\u001b[0;34m(X, y, clf, feature_index, filler_feature_values, filler_feature_ranges, ax, X_highlight, zoom_factor, legend, hide_spines, markers, colors, scatter_kwargs, contourf_kwargs, scatter_highlight_kwargs)\u001b[0m\n\u001b[1;32m    175\u001b[0m     \u001b[0;32mif\u001b[0m \u001b[0mdim\u001b[0m \u001b[0;34m>\u001b[0m \u001b[0;36m2\u001b[0m\u001b[0;34m:\u001b[0m\u001b[0;34m\u001b[0m\u001b[0;34m\u001b[0m\u001b[0m\n\u001b[1;32m    176\u001b[0m         \u001b[0;32mif\u001b[0m \u001b[0mfiller_feature_values\u001b[0m \u001b[0;32mis\u001b[0m \u001b[0;32mNone\u001b[0m\u001b[0;34m:\u001b[0m\u001b[0;34m\u001b[0m\u001b[0;34m\u001b[0m\u001b[0m\n\u001b[0;32m--> 177\u001b[0;31m             raise ValueError('Filler values must be provided when '\n\u001b[0m\u001b[1;32m    178\u001b[0m                              'X has more than 2 training features.')\n\u001b[1;32m    179\u001b[0m \u001b[0;34m\u001b[0m\u001b[0m\n",
      "\u001b[0;31mValueError\u001b[0m: Filler values must be provided when X has more than 2 training features."
     ]
    },
    {
     "data": {
      "image/png": "[encoded data removed]",
      "text/plain": [
       "<Figure size 720x576 with 1 Axes>"
      ]
     },
     "metadata": {
      "needs_background": "light"
     },
     "output_type": "display_data"
    }
   ],
   "source": [
    "import numpy as np\n",
    "label = ['SVC', 'Random Forest', 'Naïve Bayes', 'Stacking Classifier']\n",
    "clf_list = [clf1, clf2, clf3, sclf]\n",
    "    \n",
    "fig = plt.figure(figsize = (10, 8))\n",
    "gs = gridspec.GridSpec(2, 2)\n",
    "grid = itertools.product([0, 1], repeat = 2)\n",
    "\n",
    "clf_cv_mean = []\n",
    "clf_cv_std = []\n",
    "for clf, label, grd in zip(clf_list, label, grid):\n",
    "        \n",
    "    scores = cross_val_score(clf, X_1, y_1, cv = 3, scoring = 'accuracy')\n",
    "    print('Accuracy: %.2f (+/- %.2f) [%s]' % (scores.mean(), scores.std(), label))\n",
    "    clf_cv_mean.append(scores.mean())\n",
    "    clf_cv_std.append(scores.std())\n",
    "        \n",
    "    clf.fit(X, y)\n",
    "    ax = plt.subplot(gs[grd[0], grd[1]])\n",
    "    fig = plot_decision_regions(X = X_1, y = y_1, clf = clf)\n",
    "    plt.title(label)\n",
    "\n",
    "plt.show()"
   ]
  },
  {
   "cell_type": "code",
   "execution_count": 107,
   "id": "fd1c1874",
   "metadata": {},
   "outputs": [],
   "source": [
    "X_1 = np.array(X)\n",
    "y_1 = np.array(y)"
   ]
  },
  {
   "cell_type": "code",
   "execution_count": null,
   "id": "7a41e517",
   "metadata": {},
   "outputs": [],
   "source": []
  },
  {
   "cell_type": "code",
   "execution_count": null,
   "id": "fb99d95b",
   "metadata": {},
   "outputs": [],
   "source": []
  },
  {
   "cell_type": "code",
   "execution_count": null,
   "id": "fc7457d4",
   "metadata": {},
   "outputs": [],
   "source": []
  }
 ],
 "metadata": {
  "kernelspec": {
   "display_name": "Python 3",
   "language": "python",
   "name": "python3"
  },
  "language_info": {
   "codemirror_mode": {
    "name": "ipython",
    "version": 3
   },
   "file_extension": ".py",
   "mimetype": "text/x-python",
   "name": "python",
   "nbconvert_exporter": "python",
   "pygments_lexer": "ipython3",
   "version": "3.8.8"
  }
 },
 "nbformat": 4,
 "nbformat_minor": 5
}
