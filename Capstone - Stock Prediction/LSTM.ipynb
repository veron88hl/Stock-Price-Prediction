{
 "cells": [
  {
   "cell_type": "code",
   "execution_count": 1,
   "id": "849b05f2",
   "metadata": {},
   "outputs": [],
   "source": [
    "### Reference: https://www.youtube.com/watch?v=QIUxPv5PJOY\n",
    "#https://github.com/rudrajikadra/Stock-Market-Prediction-and-Forecasting-Using-Stacked-LSTM"
   ]
  },
  {
   "cell_type": "code",
   "execution_count": 2,
   "id": "70941d93",
   "metadata": {},
   "outputs": [
    {
     "name": "stdout",
     "output_type": "stream",
     "text": [
      "Requirement already satisfied: pandas_datareader in /Users/hweeli/opt/anaconda3/lib/python3.8/site-packages (0.10.0)\n",
      "Requirement already satisfied: pandas>=0.23 in /Users/hweeli/opt/anaconda3/lib/python3.8/site-packages (from pandas_datareader) (1.2.4)\n",
      "Requirement already satisfied: requests>=2.19.0 in /Users/hweeli/opt/anaconda3/lib/python3.8/site-packages (from pandas_datareader) (2.27.1)\n",
      "Requirement already satisfied: lxml in /Users/hweeli/opt/anaconda3/lib/python3.8/site-packages (from pandas_datareader) (4.8.0)\n",
      "Requirement already satisfied: python-dateutil>=2.7.3 in /Users/hweeli/opt/anaconda3/lib/python3.8/site-packages (from pandas>=0.23->pandas_datareader) (2.8.2)\n",
      "Requirement already satisfied: pytz>=2017.3 in /Users/hweeli/opt/anaconda3/lib/python3.8/site-packages (from pandas>=0.23->pandas_datareader) (2021.1)\n",
      "Requirement already satisfied: numpy>=1.16.5 in /Users/hweeli/opt/anaconda3/lib/python3.8/site-packages (from pandas>=0.23->pandas_datareader) (1.19.5)\n",
      "Requirement already satisfied: charset-normalizer~=2.0.0 in /Users/hweeli/opt/anaconda3/lib/python3.8/site-packages (from requests>=2.19.0->pandas_datareader) (2.0.12)\n",
      "Requirement already satisfied: certifi>=2017.4.17 in /Users/hweeli/opt/anaconda3/lib/python3.8/site-packages (from requests>=2.19.0->pandas_datareader) (2020.12.5)\n",
      "Requirement already satisfied: urllib3<1.27,>=1.21.1 in /Users/hweeli/opt/anaconda3/lib/python3.8/site-packages (from requests>=2.19.0->pandas_datareader) (1.26.8)\n",
      "Requirement already satisfied: idna<4,>=2.5 in /Users/hweeli/opt/anaconda3/lib/python3.8/site-packages (from requests>=2.19.0->pandas_datareader) (2.10)\n",
      "Requirement already satisfied: six>=1.5 in /Users/hweeli/opt/anaconda3/lib/python3.8/site-packages (from python-dateutil>=2.7.3->pandas>=0.23->pandas_datareader) (1.15.0)\n",
      "Requirement already satisfied: keras in /Users/hweeli/opt/anaconda3/lib/python3.8/site-packages (2.7.0)\n",
      "Requirement already satisfied: tensorflow in /Users/hweeli/opt/anaconda3/lib/python3.8/site-packages (2.7.0)\n",
      "Requirement already satisfied: h5py>=2.9.0 in /Users/hweeli/opt/anaconda3/lib/python3.8/site-packages (from tensorflow) (2.10.0)\n",
      "Requirement already satisfied: wheel<1.0,>=0.32.0 in /Users/hweeli/opt/anaconda3/lib/python3.8/site-packages (from tensorflow) (0.36.2)\n",
      "Requirement already satisfied: tensorflow-estimator<2.8,~=2.7.0rc0 in /Users/hweeli/opt/anaconda3/lib/python3.8/site-packages (from tensorflow) (2.7.0)\n",
      "Requirement already satisfied: protobuf>=3.9.2 in /Users/hweeli/opt/anaconda3/lib/python3.8/site-packages (from tensorflow) (3.19.1)\n",
      "Requirement already satisfied: keras-preprocessing>=1.1.1 in /Users/hweeli/opt/anaconda3/lib/python3.8/site-packages (from tensorflow) (1.1.2)\n",
      "Requirement already satisfied: typing-extensions>=3.6.6 in /Users/hweeli/opt/anaconda3/lib/python3.8/site-packages (from tensorflow) (3.7.4.3)\n",
      "Requirement already satisfied: flatbuffers<3.0,>=1.12 in /Users/hweeli/opt/anaconda3/lib/python3.8/site-packages (from tensorflow) (2.0)\n",
      "Requirement already satisfied: termcolor>=1.1.0 in /Users/hweeli/opt/anaconda3/lib/python3.8/site-packages (from tensorflow) (1.1.0)\n",
      "Requirement already satisfied: absl-py>=0.4.0 in /Users/hweeli/opt/anaconda3/lib/python3.8/site-packages (from tensorflow) (1.0.0)\n",
      "Requirement already satisfied: six>=1.12.0 in /Users/hweeli/opt/anaconda3/lib/python3.8/site-packages (from tensorflow) (1.15.0)\n",
      "Requirement already satisfied: astunparse>=1.6.0 in /Users/hweeli/opt/anaconda3/lib/python3.8/site-packages (from tensorflow) (1.6.3)\n",
      "Requirement already satisfied: google-pasta>=0.1.1 in /Users/hweeli/opt/anaconda3/lib/python3.8/site-packages (from tensorflow) (0.2.0)\n",
      "Requirement already satisfied: tensorboard~=2.6 in /Users/hweeli/opt/anaconda3/lib/python3.8/site-packages (from tensorflow) (2.8.0)\n",
      "Requirement already satisfied: opt-einsum>=2.3.2 in /Users/hweeli/opt/anaconda3/lib/python3.8/site-packages (from tensorflow) (3.3.0)\n",
      "Requirement already satisfied: wrapt>=1.11.0 in /Users/hweeli/opt/anaconda3/lib/python3.8/site-packages (from tensorflow) (1.12.1)\n",
      "Requirement already satisfied: grpcio<2.0,>=1.24.3 in /Users/hweeli/opt/anaconda3/lib/python3.8/site-packages (from tensorflow) (1.41.1)\n",
      "Requirement already satisfied: numpy>=1.14.5 in /Users/hweeli/opt/anaconda3/lib/python3.8/site-packages (from tensorflow) (1.19.5)\n",
      "Requirement already satisfied: keras<2.8,>=2.7.0rc0 in /Users/hweeli/opt/anaconda3/lib/python3.8/site-packages (from tensorflow) (2.7.0)\n",
      "Requirement already satisfied: libclang>=9.0.1 in /Users/hweeli/opt/anaconda3/lib/python3.8/site-packages (from tensorflow) (12.0.0)\n",
      "Requirement already satisfied: gast<0.5.0,>=0.2.1 in /Users/hweeli/opt/anaconda3/lib/python3.8/site-packages (from tensorflow) (0.4.0)\n",
      "Requirement already satisfied: tensorflow-io-gcs-filesystem>=0.21.0 in /Users/hweeli/opt/anaconda3/lib/python3.8/site-packages (from tensorflow) (0.23.1)\n",
      "Requirement already satisfied: markdown>=2.6.8 in /Users/hweeli/opt/anaconda3/lib/python3.8/site-packages (from tensorboard~=2.6->tensorflow) (3.3.6)\n",
      "Requirement already satisfied: google-auth<3,>=1.6.3 in /Users/hweeli/opt/anaconda3/lib/python3.8/site-packages (from tensorboard~=2.6->tensorflow) (2.3.3)\n",
      "Requirement already satisfied: setuptools>=41.0.0 in /Users/hweeli/opt/anaconda3/lib/python3.8/site-packages (from tensorboard~=2.6->tensorflow) (52.0.0.post20210125)\n",
      "Requirement already satisfied: werkzeug>=0.11.15 in /Users/hweeli/opt/anaconda3/lib/python3.8/site-packages (from tensorboard~=2.6->tensorflow) (1.0.1)\n",
      "Requirement already satisfied: requests<3,>=2.21.0 in /Users/hweeli/opt/anaconda3/lib/python3.8/site-packages (from tensorboard~=2.6->tensorflow) (2.27.1)\n",
      "Requirement already satisfied: tensorboard-data-server<0.7.0,>=0.6.0 in /Users/hweeli/opt/anaconda3/lib/python3.8/site-packages (from tensorboard~=2.6->tensorflow) (0.6.1)\n",
      "Requirement already satisfied: google-auth-oauthlib<0.5,>=0.4.1 in /Users/hweeli/opt/anaconda3/lib/python3.8/site-packages (from tensorboard~=2.6->tensorflow) (0.4.6)\n",
      "Requirement already satisfied: tensorboard-plugin-wit>=1.6.0 in /Users/hweeli/opt/anaconda3/lib/python3.8/site-packages (from tensorboard~=2.6->tensorflow) (1.8.1)\n",
      "Requirement already satisfied: pyasn1-modules>=0.2.1 in /Users/hweeli/opt/anaconda3/lib/python3.8/site-packages (from google-auth<3,>=1.6.3->tensorboard~=2.6->tensorflow) (0.2.8)\n",
      "Requirement already satisfied: cachetools<5.0,>=2.0.0 in /Users/hweeli/opt/anaconda3/lib/python3.8/site-packages (from google-auth<3,>=1.6.3->tensorboard~=2.6->tensorflow) (4.2.4)\n",
      "Requirement already satisfied: rsa<5,>=3.1.4 in /Users/hweeli/opt/anaconda3/lib/python3.8/site-packages (from google-auth<3,>=1.6.3->tensorboard~=2.6->tensorflow) (4.7.2)\n",
      "Requirement already satisfied: requests-oauthlib>=0.7.0 in /Users/hweeli/opt/anaconda3/lib/python3.8/site-packages (from google-auth-oauthlib<0.5,>=0.4.1->tensorboard~=2.6->tensorflow) (1.3.0)\n",
      "Requirement already satisfied: importlib-metadata>=4.4 in /Users/hweeli/opt/anaconda3/lib/python3.8/site-packages (from markdown>=2.6.8->tensorboard~=2.6->tensorflow) (4.10.1)\n",
      "Requirement already satisfied: certifi>=2017.4.17 in /Users/hweeli/opt/anaconda3/lib/python3.8/site-packages (from requests<3,>=2.21.0->tensorboard~=2.6->tensorflow) (2020.12.5)\n",
      "Requirement already satisfied: idna<4,>=2.5 in /Users/hweeli/opt/anaconda3/lib/python3.8/site-packages (from requests<3,>=2.21.0->tensorboard~=2.6->tensorflow) (2.10)\n",
      "Requirement already satisfied: charset-normalizer~=2.0.0 in /Users/hweeli/opt/anaconda3/lib/python3.8/site-packages (from requests<3,>=2.21.0->tensorboard~=2.6->tensorflow) (2.0.12)\n",
      "Requirement already satisfied: urllib3<1.27,>=1.21.1 in /Users/hweeli/opt/anaconda3/lib/python3.8/site-packages (from requests<3,>=2.21.0->tensorboard~=2.6->tensorflow) (1.26.8)\n",
      "Requirement already satisfied: zipp>=0.5 in /Users/hweeli/opt/anaconda3/lib/python3.8/site-packages (from importlib-metadata>=4.4->markdown>=2.6.8->tensorboard~=2.6->tensorflow) (3.4.1)\n",
      "Requirement already satisfied: pyasn1<0.5.0,>=0.4.6 in /Users/hweeli/opt/anaconda3/lib/python3.8/site-packages (from pyasn1-modules>=0.2.1->google-auth<3,>=1.6.3->tensorboard~=2.6->tensorflow) (0.4.8)\n",
      "Requirement already satisfied: oauthlib>=3.0.0 in /Users/hweeli/opt/anaconda3/lib/python3.8/site-packages (from requests-oauthlib>=0.7.0->google-auth-oauthlib<0.5,>=0.4.1->tensorboard~=2.6->tensorflow) (3.1.1)\n"
     ]
    }
   ],
   "source": [
    "#import the libraries\n",
    "!pip install pandas_datareader\n",
    "!pip install keras\n",
    "!pip install tensorflow\n",
    "import math\n",
    "import pandas_datareader as web\n",
    "import numpy as np\n",
    "import pandas as pd\n",
    "from sklearn.preprocessing import MinMaxScaler\n",
    "from tensorflow.keras.models import Sequential \n",
    "from keras.layers import Dense, LSTM\n",
    "import matplotlib.pyplot as plt\n",
    "plt.style.use(\"fivethirtyeight\")\n",
    "import math"
   ]
  },
  {
   "cell_type": "code",
   "execution_count": 3,
   "id": "a7327ef1",
   "metadata": {},
   "outputs": [
    {
     "name": "stdout",
     "output_type": "stream",
     "text": [
      "Requirement already satisfied: pip in /Users/hweeli/opt/anaconda3/lib/python3.8/site-packages (22.0.4)\n",
      "Note: you may need to restart the kernel to use updated packages.\n"
     ]
    }
   ],
   "source": [
    "pip install --upgrade pip"
   ]
  },
  {
   "cell_type": "code",
   "execution_count": 4,
   "id": "9c45ab3b",
   "metadata": {},
   "outputs": [],
   "source": [
    "#pip list #check the list of software within pip"
   ]
  },
  {
   "cell_type": "code",
   "execution_count": 5,
   "id": "90275cb5",
   "metadata": {},
   "outputs": [],
   "source": [
    "#get the stock quote\n",
    "df = web.DataReader('AAPL', data_source='yahoo',start='2012-01-02', end='2021-12-31')"
   ]
  },
  {
   "cell_type": "code",
   "execution_count": 6,
   "id": "0b53c30f",
   "metadata": {},
   "outputs": [
    {
     "data": {
      "text/html": [
       "<div>\n",
       "<style scoped>\n",
       "    .dataframe tbody tr th:only-of-type {\n",
       "        vertical-align: middle;\n",
       "    }\n",
       "\n",
       "    .dataframe tbody tr th {\n",
       "        vertical-align: top;\n",
       "    }\n",
       "\n",
       "    .dataframe thead th {\n",
       "        text-align: right;\n",
       "    }\n",
       "</style>\n",
       "<table border=\"1\" class=\"dataframe\">\n",
       "  <thead>\n",
       "    <tr style=\"text-align: right;\">\n",
       "      <th></th>\n",
       "      <th>High</th>\n",
       "      <th>Low</th>\n",
       "      <th>Open</th>\n",
       "      <th>Close</th>\n",
       "      <th>Volume</th>\n",
       "      <th>Adj Close</th>\n",
       "    </tr>\n",
       "    <tr>\n",
       "      <th>Date</th>\n",
       "      <th></th>\n",
       "      <th></th>\n",
       "      <th></th>\n",
       "      <th></th>\n",
       "      <th></th>\n",
       "      <th></th>\n",
       "    </tr>\n",
       "  </thead>\n",
       "  <tbody>\n",
       "    <tr>\n",
       "      <th>2012-01-03</th>\n",
       "      <td>14.732143</td>\n",
       "      <td>14.607143</td>\n",
       "      <td>14.621429</td>\n",
       "      <td>14.686786</td>\n",
       "      <td>302220800.0</td>\n",
       "      <td>12.575916</td>\n",
       "    </tr>\n",
       "    <tr>\n",
       "      <th>2012-01-04</th>\n",
       "      <td>14.810000</td>\n",
       "      <td>14.617143</td>\n",
       "      <td>14.642857</td>\n",
       "      <td>14.765714</td>\n",
       "      <td>260022000.0</td>\n",
       "      <td>12.643497</td>\n",
       "    </tr>\n",
       "    <tr>\n",
       "      <th>2012-01-05</th>\n",
       "      <td>14.948214</td>\n",
       "      <td>14.738214</td>\n",
       "      <td>14.819643</td>\n",
       "      <td>14.929643</td>\n",
       "      <td>271269600.0</td>\n",
       "      <td>12.783869</td>\n",
       "    </tr>\n",
       "    <tr>\n",
       "      <th>2012-01-06</th>\n",
       "      <td>15.098214</td>\n",
       "      <td>14.972143</td>\n",
       "      <td>14.991786</td>\n",
       "      <td>15.085714</td>\n",
       "      <td>318292800.0</td>\n",
       "      <td>12.917510</td>\n",
       "    </tr>\n",
       "    <tr>\n",
       "      <th>2012-01-09</th>\n",
       "      <td>15.276786</td>\n",
       "      <td>15.048214</td>\n",
       "      <td>15.196429</td>\n",
       "      <td>15.061786</td>\n",
       "      <td>394024400.0</td>\n",
       "      <td>12.897018</td>\n",
       "    </tr>\n",
       "    <tr>\n",
       "      <th>...</th>\n",
       "      <td>...</td>\n",
       "      <td>...</td>\n",
       "      <td>...</td>\n",
       "      <td>...</td>\n",
       "      <td>...</td>\n",
       "      <td>...</td>\n",
       "    </tr>\n",
       "    <tr>\n",
       "      <th>2021-12-27</th>\n",
       "      <td>180.419998</td>\n",
       "      <td>177.070007</td>\n",
       "      <td>177.089996</td>\n",
       "      <td>180.330002</td>\n",
       "      <td>74919600.0</td>\n",
       "      <td>180.100540</td>\n",
       "    </tr>\n",
       "    <tr>\n",
       "      <th>2021-12-28</th>\n",
       "      <td>181.330002</td>\n",
       "      <td>178.529999</td>\n",
       "      <td>180.160004</td>\n",
       "      <td>179.289993</td>\n",
       "      <td>79144300.0</td>\n",
       "      <td>179.061859</td>\n",
       "    </tr>\n",
       "    <tr>\n",
       "      <th>2021-12-29</th>\n",
       "      <td>180.630005</td>\n",
       "      <td>178.139999</td>\n",
       "      <td>179.330002</td>\n",
       "      <td>179.380005</td>\n",
       "      <td>62348900.0</td>\n",
       "      <td>179.151749</td>\n",
       "    </tr>\n",
       "    <tr>\n",
       "      <th>2021-12-30</th>\n",
       "      <td>180.570007</td>\n",
       "      <td>178.089996</td>\n",
       "      <td>179.470001</td>\n",
       "      <td>178.199997</td>\n",
       "      <td>59773000.0</td>\n",
       "      <td>177.973251</td>\n",
       "    </tr>\n",
       "    <tr>\n",
       "      <th>2021-12-31</th>\n",
       "      <td>179.229996</td>\n",
       "      <td>177.259995</td>\n",
       "      <td>178.089996</td>\n",
       "      <td>177.570007</td>\n",
       "      <td>64062300.0</td>\n",
       "      <td>177.344055</td>\n",
       "    </tr>\n",
       "  </tbody>\n",
       "</table>\n",
       "<p>2517 rows × 6 columns</p>\n",
       "</div>"
      ],
      "text/plain": [
       "                  High         Low        Open       Close       Volume  \\\n",
       "Date                                                                      \n",
       "2012-01-03   14.732143   14.607143   14.621429   14.686786  302220800.0   \n",
       "2012-01-04   14.810000   14.617143   14.642857   14.765714  260022000.0   \n",
       "2012-01-05   14.948214   14.738214   14.819643   14.929643  271269600.0   \n",
       "2012-01-06   15.098214   14.972143   14.991786   15.085714  318292800.0   \n",
       "2012-01-09   15.276786   15.048214   15.196429   15.061786  394024400.0   \n",
       "...                ...         ...         ...         ...          ...   \n",
       "2021-12-27  180.419998  177.070007  177.089996  180.330002   74919600.0   \n",
       "2021-12-28  181.330002  178.529999  180.160004  179.289993   79144300.0   \n",
       "2021-12-29  180.630005  178.139999  179.330002  179.380005   62348900.0   \n",
       "2021-12-30  180.570007  178.089996  179.470001  178.199997   59773000.0   \n",
       "2021-12-31  179.229996  177.259995  178.089996  177.570007   64062300.0   \n",
       "\n",
       "             Adj Close  \n",
       "Date                    \n",
       "2012-01-03   12.575916  \n",
       "2012-01-04   12.643497  \n",
       "2012-01-05   12.783869  \n",
       "2012-01-06   12.917510  \n",
       "2012-01-09   12.897018  \n",
       "...                ...  \n",
       "2021-12-27  180.100540  \n",
       "2021-12-28  179.061859  \n",
       "2021-12-29  179.151749  \n",
       "2021-12-30  177.973251  \n",
       "2021-12-31  177.344055  \n",
       "\n",
       "[2517 rows x 6 columns]"
      ]
     },
     "execution_count": 6,
     "metadata": {},
     "output_type": "execute_result"
    }
   ],
   "source": [
    "df"
   ]
  },
  {
   "cell_type": "code",
   "execution_count": 7,
   "id": "a157d415",
   "metadata": {},
   "outputs": [
    {
     "data": {
      "text/plain": [
       "(2517, 6)"
      ]
     },
     "execution_count": 7,
     "metadata": {},
     "output_type": "execute_result"
    }
   ],
   "source": [
    "df.shape "
   ]
  },
  {
   "cell_type": "code",
   "execution_count": 8,
   "id": "059721b7",
   "metadata": {},
   "outputs": [
    {
     "data": {
      "image/png": "[encoded data removed]",
      "text/plain": [
       "<Figure size 1152x576 with 1 Axes>"
      ]
     },
     "metadata": {},
     "output_type": "display_data"
    }
   ],
   "source": [
    "#visulize the closing price history\n",
    "plt.figure(figsize = (16,8))\n",
    "plt.title('Close Price History')\n",
    "plt.plot(df['Close'])\n",
    "plt.xlabel('Date', fontsize=18)\n",
    "plt.ylabel('Close Price USD ($)', fontsize =18)\n",
    "plt.show()"
   ]
  },
  {
   "cell_type": "code",
   "execution_count": 9,
   "id": "1a24eccb",
   "metadata": {},
   "outputs": [],
   "source": [
    "#new dataframe with only the 'close column'\n",
    "df_close = df.filter(['Close'])\n",
    "\n",
    "#convert dataframe to numpy\n",
    "dataset = df_close.values"
   ]
  },
  {
   "cell_type": "code",
   "execution_count": 10,
   "id": "a368d99c",
   "metadata": {},
   "outputs": [
    {
     "data": {
      "text/plain": [
       "2014"
      ]
     },
     "execution_count": 10,
     "metadata": {},
     "output_type": "execute_result"
    }
   ],
   "source": [
    "training_data_len = math.ceil(len(dataset)* .8) #80% of the data to be training data\n",
    "training_data_len"
   ]
  },
  {
   "cell_type": "code",
   "execution_count": 11,
   "id": "efee2132",
   "metadata": {},
   "outputs": [],
   "source": [
    "#scale data before using neutron network\n",
    "scaler = MinMaxScaler (feature_range =(0,1))\n",
    "scaled_data = scaler.fit_transform(dataset)"
   ]
  },
  {
   "cell_type": "code",
   "execution_count": 12,
   "id": "bd2903e4",
   "metadata": {},
   "outputs": [
    {
     "data": {
      "text/plain": [
       "array([[0.00444329],\n",
       "       [0.00491767],\n",
       "       [0.00590292],\n",
       "       ...,\n",
       "       [0.99429028],\n",
       "       [0.98719814],\n",
       "       [0.98341175]])"
      ]
     },
     "execution_count": 12,
     "metadata": {},
     "output_type": "execute_result"
    }
   ],
   "source": [
    "scaled_data"
   ]
  },
  {
   "cell_type": "code",
   "execution_count": 13,
   "id": "659b2cbc",
   "metadata": {},
   "outputs": [
    {
     "name": "stdout",
     "output_type": "stream",
     "text": [
      "[array([0.00444329, 0.00491767, 0.00590292, 0.00684095, 0.00669713,\n",
      "       0.00702125, 0.00687314, 0.00662415, 0.006285  , 0.00733465,\n",
      "       0.00828126, 0.00798934, 0.00639018, 0.00791635, 0.00641379,\n",
      "       0.0120484 , 0.01161266, 0.01218148, 0.01341144, 0.01415627,\n",
      "       0.01409403, 0.01386435, 0.01484316, 0.01576401, 0.01680723,\n",
      "       0.01849225, 0.02203185, 0.02208551, 0.02405602, 0.02552852,\n",
      "       0.02299779, 0.0239723 , 0.02395298, 0.0266855 , 0.02629698,\n",
      "       0.02701606, 0.02830826, 0.02902735, 0.03109874, 0.03260773,\n",
      "       0.03304348, 0.03319588, 0.03061578, 0.02999328, 0.03008558,\n",
      "       0.03251115, 0.03319374, 0.03465981, 0.0381157 , 0.04272642,\n",
      "       0.04186352, 0.04186566, 0.04519921, 0.04624242, 0.04549971,\n",
      "       0.04482142, 0.04411522, 0.04646135, 0.04807125, 0.04874525,\n",
      "       0.04707955, 0.0448665 , 0.04896205, 0.05125667, 0.05018127,\n",
      "       0.05219256, 0.05273992, 0.05106779, 0.05058697, 0.0498507 ,\n",
      "       0.04608571, 0.04069796, 0.04704521, 0.04675329, 0.04226706,\n",
      "       0.0391632 , 0.03888844, 0.03643712, 0.0471096 , 0.04661591,\n",
      "       0.04560704, 0.04152437, 0.04112727, 0.04195367, 0.04106072,\n",
      "       0.03750394, 0.03841192, 0.03813287, 0.03834752, 0.03863515,\n",
      "       0.03781734, 0.03599494, 0.03491095, 0.03338907, 0.02996323,\n",
      "       0.03001904, 0.03665177, 0.03572663, 0.03864375, 0.03751897])]\n",
      "[0.03686857039697508]\n",
      "\n",
      "[array([0.00444329, 0.00491767, 0.00590292, 0.00684095, 0.00669713,\n",
      "       0.00702125, 0.00687314, 0.00662415, 0.006285  , 0.00733465,\n",
      "       0.00828126, 0.00798934, 0.00639018, 0.00791635, 0.00641379,\n",
      "       0.0120484 , 0.01161266, 0.01218148, 0.01341144, 0.01415627,\n",
      "       0.01409403, 0.01386435, 0.01484316, 0.01576401, 0.01680723,\n",
      "       0.01849225, 0.02203185, 0.02208551, 0.02405602, 0.02552852,\n",
      "       0.02299779, 0.0239723 , 0.02395298, 0.0266855 , 0.02629698,\n",
      "       0.02701606, 0.02830826, 0.02902735, 0.03109874, 0.03260773,\n",
      "       0.03304348, 0.03319588, 0.03061578, 0.02999328, 0.03008558,\n",
      "       0.03251115, 0.03319374, 0.03465981, 0.0381157 , 0.04272642,\n",
      "       0.04186352, 0.04186566, 0.04519921, 0.04624242, 0.04549971,\n",
      "       0.04482142, 0.04411522, 0.04646135, 0.04807125, 0.04874525,\n",
      "       0.04707955, 0.0448665 , 0.04896205, 0.05125667, 0.05018127,\n",
      "       0.05219256, 0.05273992, 0.05106779, 0.05058697, 0.0498507 ,\n",
      "       0.04608571, 0.04069796, 0.04704521, 0.04675329, 0.04226706,\n",
      "       0.0391632 , 0.03888844, 0.03643712, 0.0471096 , 0.04661591,\n",
      "       0.04560704, 0.04152437, 0.04112727, 0.04195367, 0.04106072,\n",
      "       0.03750394, 0.03841192, 0.03813287, 0.03834752, 0.03863515,\n",
      "       0.03781734, 0.03599494, 0.03491095, 0.03338907, 0.02996323,\n",
      "       0.03001904, 0.03665177, 0.03572663, 0.03864375, 0.03751897]), array([0.00491767, 0.00590292, 0.00684095, 0.00669713, 0.00702125,\n",
      "       0.00687314, 0.00662415, 0.006285  , 0.00733465, 0.00828126,\n",
      "       0.00798934, 0.00639018, 0.00791635, 0.00641379, 0.0120484 ,\n",
      "       0.01161266, 0.01218148, 0.01341144, 0.01415627, 0.01409403,\n",
      "       0.01386435, 0.01484316, 0.01576401, 0.01680723, 0.01849225,\n",
      "       0.02203185, 0.02208551, 0.02405602, 0.02552852, 0.02299779,\n",
      "       0.0239723 , 0.02395298, 0.0266855 , 0.02629698, 0.02701606,\n",
      "       0.02830826, 0.02902735, 0.03109874, 0.03260773, 0.03304348,\n",
      "       0.03319588, 0.03061578, 0.02999328, 0.03008558, 0.03251115,\n",
      "       0.03319374, 0.03465981, 0.0381157 , 0.04272642, 0.04186352,\n",
      "       0.04186566, 0.04519921, 0.04624242, 0.04549971, 0.04482142,\n",
      "       0.04411522, 0.04646135, 0.04807125, 0.04874525, 0.04707955,\n",
      "       0.0448665 , 0.04896205, 0.05125667, 0.05018127, 0.05219256,\n",
      "       0.05273992, 0.05106779, 0.05058697, 0.0498507 , 0.04608571,\n",
      "       0.04069796, 0.04704521, 0.04675329, 0.04226706, 0.0391632 ,\n",
      "       0.03888844, 0.03643712, 0.0471096 , 0.04661591, 0.04560704,\n",
      "       0.04152437, 0.04112727, 0.04195367, 0.04106072, 0.03750394,\n",
      "       0.03841192, 0.03813287, 0.03834752, 0.03863515, 0.03781734,\n",
      "       0.03599494, 0.03491095, 0.03338907, 0.02996323, 0.03001904,\n",
      "       0.03665177, 0.03572663, 0.03864375, 0.03751897, 0.03686857])]\n",
      "[0.03686857039697508, 0.03901079174194884]\n",
      "\n"
     ]
    }
   ],
   "source": [
    "#create the training data set\n",
    "train_data = scaled_data[0:training_data_len, :]\n",
    "\n",
    "#split the data into x_train and y_train data sets\n",
    "x_train = []\n",
    "y_train = []\n",
    "\n",
    "for i in range(100,len(train_data)):\n",
    "    x_train.append(train_data[i-100:i, 0])\n",
    "    y_train.append(train_data[i, 0])\n",
    "    if i <=101:\n",
    "        print(x_train)\n",
    "        print(y_train)\n",
    "        print()"
   ]
  },
  {
   "cell_type": "code",
   "execution_count": 14,
   "id": "04876502",
   "metadata": {},
   "outputs": [],
   "source": [
    "#convert x_train and y_train to numpy arrays\n",
    "x_train, y_train = np.array(x_train), np.array(y_train)"
   ]
  },
  {
   "cell_type": "code",
   "execution_count": 15,
   "id": "8ef8fce9",
   "metadata": {},
   "outputs": [
    {
     "data": {
      "text/plain": [
       "(1914, 100, 1)"
      ]
     },
     "execution_count": 15,
     "metadata": {},
     "output_type": "execute_result"
    }
   ],
   "source": [
    "#reshape the data\n",
    "x_train = np.reshape(x_train,(x_train.shape[0], x_train.shape[1],1))\n",
    "x_train.shape #LSTM require 3 dimensional"
   ]
  },
  {
   "cell_type": "code",
   "execution_count": 16,
   "id": "6c08316a",
   "metadata": {},
   "outputs": [],
   "source": [
    "#Build LSTM Model\n",
    "model = Sequential()\n",
    "model.add(LSTM(50, return_sequences= True, input_shape= (x_train.shape[1], 1)))\n",
    "model.add(LSTM(50, return_sequences = False))\n",
    "model.add(Dense(25))\n",
    "model.add(Dense(1))"
   ]
  },
  {
   "cell_type": "code",
   "execution_count": 17,
   "id": "17bfdd2d",
   "metadata": {},
   "outputs": [],
   "source": [
    "#compile the model\n",
    "model.compile(optimizer='adam', loss = 'mean_squared_error')"
   ]
  },
  {
   "cell_type": "code",
   "execution_count": 18,
   "id": "5478a91c",
   "metadata": {},
   "outputs": [
    {
     "name": "stdout",
     "output_type": "stream",
     "text": [
      "Epoch 1/100\n",
      "1914/1914 [==============================] - 44s 22ms/step - loss: 1.8646e-04\n",
      "Epoch 2/100\n",
      "1914/1914 [==============================] - 42s 22ms/step - loss: 9.4827e-05\n",
      "Epoch 3/100\n",
      "1914/1914 [==============================] - 42s 22ms/step - loss: 5.3826e-05\n",
      "Epoch 4/100\n",
      "1914/1914 [==============================] - 42s 22ms/step - loss: 5.8817e-05\n",
      "Epoch 5/100\n",
      "1914/1914 [==============================] - 43s 23ms/step - loss: 4.1842e-05\n",
      "Epoch 6/100\n",
      "1914/1914 [==============================] - 41s 22ms/step - loss: 4.4492e-05\n",
      "Epoch 7/100\n",
      "1914/1914 [==============================] - 42s 22ms/step - loss: 4.0461e-05\n",
      "Epoch 8/100\n",
      "1914/1914 [==============================] - 42s 22ms/step - loss: 3.3030e-05\n",
      "Epoch 9/100\n",
      "1914/1914 [==============================] - 42s 22ms/step - loss: 3.4757e-05\n",
      "Epoch 10/100\n",
      "1914/1914 [==============================] - 42s 22ms/step - loss: 3.3469e-05\n",
      "Epoch 11/100\n",
      "1914/1914 [==============================] - 41s 22ms/step - loss: 2.7769e-05\n",
      "Epoch 12/100\n",
      "1914/1914 [==============================] - 41s 21ms/step - loss: 2.9501e-05\n",
      "Epoch 13/100\n",
      "1914/1914 [==============================] - 41s 21ms/step - loss: 3.0861e-05\n",
      "Epoch 14/100\n",
      "1914/1914 [==============================] - 41s 21ms/step - loss: 3.1414e-05\n",
      "Epoch 15/100\n",
      "1914/1914 [==============================] - 41s 21ms/step - loss: 2.5930e-05\n",
      "Epoch 16/100\n",
      "1914/1914 [==============================] - 41s 21ms/step - loss: 2.8033e-05\n",
      "Epoch 17/100\n",
      "1914/1914 [==============================] - 41s 21ms/step - loss: 2.4913e-05\n",
      "Epoch 18/100\n",
      "1914/1914 [==============================] - 41s 21ms/step - loss: 2.6193e-05\n",
      "Epoch 19/100\n",
      "1914/1914 [==============================] - 41s 21ms/step - loss: 2.3651e-05\n",
      "Epoch 20/100\n",
      "1914/1914 [==============================] - 41s 21ms/step - loss: 2.8429e-05\n",
      "Epoch 21/100\n",
      "1914/1914 [==============================] - 41s 21ms/step - loss: 2.3341e-05\n",
      "Epoch 22/100\n",
      "1914/1914 [==============================] - 41s 21ms/step - loss: 2.3982e-05\n",
      "Epoch 23/100\n",
      "1914/1914 [==============================] - 41s 21ms/step - loss: 2.3622e-05\n",
      "Epoch 24/100\n",
      "1914/1914 [==============================] - 41s 21ms/step - loss: 2.5583e-05\n",
      "Epoch 25/100\n",
      "1914/1914 [==============================] - 41s 21ms/step - loss: 2.3244e-05\n",
      "Epoch 26/100\n",
      "1914/1914 [==============================] - 41s 21ms/step - loss: 2.4407e-05\n",
      "Epoch 27/100\n",
      "1914/1914 [==============================] - 41s 21ms/step - loss: 2.2541e-05\n",
      "Epoch 28/100\n",
      "1914/1914 [==============================] - 41s 21ms/step - loss: 2.6102e-05\n",
      "Epoch 29/100\n",
      "1914/1914 [==============================] - 41s 21ms/step - loss: 2.0211e-05\n",
      "Epoch 30/100\n",
      "1914/1914 [==============================] - 41s 21ms/step - loss: 2.1994e-05\n",
      "Epoch 31/100\n",
      "1914/1914 [==============================] - 41s 21ms/step - loss: 2.1220e-05\n",
      "Epoch 32/100\n",
      "1914/1914 [==============================] - 41s 21ms/step - loss: 2.1507e-05\n",
      "Epoch 33/100\n",
      "1914/1914 [==============================] - 41s 21ms/step - loss: 2.3519e-05\n",
      "Epoch 34/100\n",
      "1914/1914 [==============================] - 41s 21ms/step - loss: 2.1849e-05\n",
      "Epoch 35/100\n",
      "1914/1914 [==============================] - 41s 21ms/step - loss: 2.1462e-05\n",
      "Epoch 36/100\n",
      "1914/1914 [==============================] - 41s 21ms/step - loss: 2.1144e-05\n",
      "Epoch 37/100\n",
      "1914/1914 [==============================] - 41s 21ms/step - loss: 2.2201e-05\n",
      "Epoch 38/100\n",
      "1914/1914 [==============================] - 41s 21ms/step - loss: 2.0117e-05\n",
      "Epoch 39/100\n",
      "1914/1914 [==============================] - 41s 21ms/step - loss: 2.0638e-05\n",
      "Epoch 40/100\n",
      "1914/1914 [==============================] - 41s 21ms/step - loss: 1.9355e-05\n",
      "Epoch 41/100\n",
      "1914/1914 [==============================] - 41s 21ms/step - loss: 2.0218e-05\n",
      "Epoch 42/100\n",
      "1914/1914 [==============================] - 41s 21ms/step - loss: 2.0790e-05\n",
      "Epoch 43/100\n",
      "1914/1914 [==============================] - 41s 21ms/step - loss: 2.1298e-05\n",
      "Epoch 44/100\n",
      "1914/1914 [==============================] - 41s 21ms/step - loss: 2.1285e-05\n",
      "Epoch 45/100\n",
      "1914/1914 [==============================] - 41s 21ms/step - loss: 2.1448e-05\n",
      "Epoch 46/100\n",
      "1914/1914 [==============================] - 41s 21ms/step - loss: 2.1187e-05\n",
      "Epoch 47/100\n",
      "1914/1914 [==============================] - 41s 21ms/step - loss: 2.0548e-05\n",
      "Epoch 48/100\n",
      "1914/1914 [==============================] - 42s 22ms/step - loss: 2.1236e-05\n",
      "Epoch 49/100\n",
      "1914/1914 [==============================] - 41s 21ms/step - loss: 1.9287e-05\n",
      "Epoch 50/100\n",
      "1914/1914 [==============================] - 41s 22ms/step - loss: 1.9299e-05\n",
      "Epoch 51/100\n",
      "1914/1914 [==============================] - 42s 22ms/step - loss: 1.8883e-05\n",
      "Epoch 52/100\n",
      "1914/1914 [==============================] - 41s 21ms/step - loss: 2.1104e-05\n",
      "Epoch 53/100\n",
      "1914/1914 [==============================] - 41s 22ms/step - loss: 1.9037e-05\n",
      "Epoch 54/100\n",
      "1914/1914 [==============================] - 41s 21ms/step - loss: 2.0469e-05\n",
      "Epoch 55/100\n",
      "1914/1914 [==============================] - 41s 21ms/step - loss: 1.8747e-05\n",
      "Epoch 56/100\n",
      "1914/1914 [==============================] - 41s 21ms/step - loss: 2.0796e-05\n",
      "Epoch 57/100\n",
      "1914/1914 [==============================] - 41s 22ms/step - loss: 1.9579e-05\n",
      "Epoch 58/100\n",
      "1914/1914 [==============================] - 41s 22ms/step - loss: 1.8415e-05\n",
      "Epoch 59/100\n",
      "1914/1914 [==============================] - 39s 21ms/step - loss: 2.0407e-05\n",
      "Epoch 60/100\n",
      "1914/1914 [==============================] - 39s 20ms/step - loss: 1.9869e-05\n",
      "Epoch 61/100\n",
      "1914/1914 [==============================] - 39s 21ms/step - loss: 1.8572e-05\n",
      "Epoch 62/100\n",
      "1914/1914 [==============================] - 39s 20ms/step - loss: 2.0006e-05\n",
      "Epoch 63/100\n",
      "1914/1914 [==============================] - 39s 20ms/step - loss: 1.9045e-05\n",
      "Epoch 64/100\n",
      "1914/1914 [==============================] - 40s 21ms/step - loss: 2.0256e-05\n",
      "Epoch 65/100\n",
      "1914/1914 [==============================] - 40s 21ms/step - loss: 2.0604e-05\n",
      "Epoch 66/100\n",
      "1914/1914 [==============================] - 39s 20ms/step - loss: 1.8173e-05\n",
      "Epoch 67/100\n",
      "1914/1914 [==============================] - 39s 20ms/step - loss: 1.9350e-05\n",
      "Epoch 68/100\n",
      "1914/1914 [==============================] - 39s 20ms/step - loss: 1.8610e-05\n",
      "Epoch 69/100\n",
      "1914/1914 [==============================] - 39s 20ms/step - loss: 1.8997e-05\n",
      "Epoch 70/100\n",
      "1914/1914 [==============================] - 39s 20ms/step - loss: 1.9420e-05\n",
      "Epoch 71/100\n",
      "1914/1914 [==============================] - 39s 20ms/step - loss: 1.8653e-05\n",
      "Epoch 72/100\n",
      "1914/1914 [==============================] - 39s 20ms/step - loss: 1.9100e-05\n",
      "Epoch 73/100\n",
      "1914/1914 [==============================] - 39s 20ms/step - loss: 1.7831e-05\n",
      "Epoch 74/100\n",
      "1914/1914 [==============================] - 39s 20ms/step - loss: 1.9102e-05\n",
      "Epoch 75/100\n",
      "1914/1914 [==============================] - 39s 20ms/step - loss: 1.8914e-05\n",
      "Epoch 76/100\n",
      "1914/1914 [==============================] - 39s 20ms/step - loss: 1.8012e-05\n",
      "Epoch 77/100\n",
      "1914/1914 [==============================] - 39s 20ms/step - loss: 1.8674e-05\n",
      "Epoch 78/100\n",
      "1914/1914 [==============================] - 39s 20ms/step - loss: 1.8029e-05\n",
      "Epoch 79/100\n",
      "1914/1914 [==============================] - 39s 20ms/step - loss: 1.8942e-05\n",
      "Epoch 80/100\n",
      "1914/1914 [==============================] - 39s 20ms/step - loss: 1.7952e-05\n",
      "Epoch 81/100\n",
      "1914/1914 [==============================] - 39s 20ms/step - loss: 1.8834e-05\n",
      "Epoch 82/100\n",
      "1914/1914 [==============================] - 39s 20ms/step - loss: 1.8999e-05\n",
      "Epoch 83/100\n",
      "1914/1914 [==============================] - 39s 20ms/step - loss: 1.8509e-05\n",
      "Epoch 84/100\n",
      "1914/1914 [==============================] - 39s 20ms/step - loss: 1.9809e-05\n",
      "Epoch 85/100\n",
      "1914/1914 [==============================] - 39s 20ms/step - loss: 1.8529e-05\n",
      "Epoch 86/100\n",
      "1914/1914 [==============================] - 39s 20ms/step - loss: 1.7985e-05\n",
      "Epoch 87/100\n",
      "1914/1914 [==============================] - 39s 20ms/step - loss: 1.8559e-05\n",
      "Epoch 88/100\n",
      "1914/1914 [==============================] - 39s 20ms/step - loss: 1.9624e-05\n",
      "Epoch 89/100\n",
      "1914/1914 [==============================] - 39s 21ms/step - loss: 1.7637e-05\n",
      "Epoch 90/100\n",
      "1914/1914 [==============================] - 40s 21ms/step - loss: 1.7938e-05\n",
      "Epoch 91/100\n"
     ]
    },
    {
     "name": "stdout",
     "output_type": "stream",
     "text": [
      "1914/1914 [==============================] - 40s 21ms/step - loss: 1.8026e-05\n",
      "Epoch 92/100\n",
      "1914/1914 [==============================] - 40s 21ms/step - loss: 1.9033e-05\n",
      "Epoch 93/100\n",
      "1914/1914 [==============================] - 40s 21ms/step - loss: 1.8089e-05\n",
      "Epoch 94/100\n",
      "1914/1914 [==============================] - 40s 21ms/step - loss: 1.7503e-05\n",
      "Epoch 95/100\n",
      "1914/1914 [==============================] - 40s 21ms/step - loss: 1.8341e-05\n",
      "Epoch 96/100\n",
      "1914/1914 [==============================] - 40s 21ms/step - loss: 1.8717e-05\n",
      "Epoch 97/100\n",
      "1914/1914 [==============================] - 40s 21ms/step - loss: 1.7872e-05\n",
      "Epoch 98/100\n",
      "1914/1914 [==============================] - 40s 21ms/step - loss: 1.8640e-05\n",
      "Epoch 99/100\n",
      "1914/1914 [==============================] - 40s 21ms/step - loss: 1.6957e-05\n",
      "Epoch 100/100\n",
      "1914/1914 [==============================] - 40s 21ms/step - loss: 1.7672e-05\n"
     ]
    },
    {
     "data": {
      "text/plain": [
       "<keras.callbacks.History at 0x7fcffd652070>"
      ]
     },
     "execution_count": 18,
     "metadata": {},
     "output_type": "execute_result"
    }
   ],
   "source": [
    "#train the model #epochs is the no of literations to and back\n",
    "model.fit(x_train, y_train, batch_size =1, epochs=100)"
   ]
  },
  {
   "cell_type": "code",
   "execution_count": 19,
   "id": "6b79dce3",
   "metadata": {},
   "outputs": [],
   "source": [
    "#create the testing dataset -> new array with scaled values from \n",
    "#index 1722 (training_data_len minus i) to 2182\n",
    "\n",
    "test_data = scaled_data[training_data_len - 100: , :]\n",
    "\n",
    "x_test= []\n",
    "y_test= dataset[training_data_len:, :] #predicted values\n",
    "\n",
    "for i in range(100, len(test_data)):\n",
    "    x_test.append(test_data[i-100:i, 0])\n"
   ]
  },
  {
   "cell_type": "code",
   "execution_count": 20,
   "id": "fad5e446",
   "metadata": {},
   "outputs": [],
   "source": [
    "#convert the data to a numpy array\n",
    "x_test = np.array(x_test)"
   ]
  },
  {
   "cell_type": "code",
   "execution_count": 21,
   "id": "7ac2ac50",
   "metadata": {},
   "outputs": [],
   "source": [
    "#reshape the data into 3D for LSTM\n",
    "x_test = np.reshape(x_test, (x_test.shape[0], x_test.shape[1], 1))"
   ]
  },
  {
   "cell_type": "code",
   "execution_count": 22,
   "id": "59866fb9",
   "metadata": {},
   "outputs": [],
   "source": [
    "#get the model predicted price values\n",
    "predictions = model.predict(x_test)\n",
    "predictions = scaler.inverse_transform(predictions) \n",
    "\n",
    "#un-scaling the values, predictions to be same values as y_test (based on x_test dataset)"
   ]
  },
  {
   "cell_type": "code",
   "execution_count": 23,
   "id": "30b07387",
   "metadata": {},
   "outputs": [
    {
     "data": {
      "text/plain": [
       "5.3458679532909965"
      ]
     },
     "execution_count": 23,
     "metadata": {},
     "output_type": "execute_result"
    }
   ],
   "source": [
    "#Root mean squared error (RMSE) - accuracy of the model and standard deviation of residuals\n",
    "#lower RMSE indicate a better fit\n",
    "rmse = np.sqrt(np.mean(predictions - y_test)**2)\n",
    "rmse"
   ]
  },
  {
   "cell_type": "code",
   "execution_count": 24,
   "id": "c52711a4",
   "metadata": {},
   "outputs": [
    {
     "name": "stderr",
     "output_type": "stream",
     "text": [
      "<ipython-input-24-44d276b9caf3>:5: SettingWithCopyWarning: \n",
      "A value is trying to be set on a copy of a slice from a DataFrame.\n",
      "Try using .loc[row_indexer,col_indexer] = value instead\n",
      "\n",
      "See the caveats in the documentation: https://pandas.pydata.org/pandas-docs/stable/user_guide/indexing.html#returning-a-view-versus-a-copy\n",
      "  valid['Predictions'] = predictions\n"
     ]
    },
    {
     "data": {
      "image/png": "[encoded data removed]",
      "text/plain": [
       "<Figure size 1152x576 with 1 Axes>"
      ]
     },
     "metadata": {},
     "output_type": "display_data"
    }
   ],
   "source": [
    "#plot the data\n",
    "train = df_close[:training_data_len]\n",
    "valid = df_close[training_data_len:]\n",
    "\n",
    "valid['Predictions'] = predictions\n",
    "\n",
    "#visulisation the data\n",
    "plt.figure(figsize =(16,8))\n",
    "plt.title('Model')\n",
    "plt.xlabel('Date', fontsize = 18)\n",
    "plt.ylabel('Close Price USD ($)', fontsize =18)\n",
    "plt.plot(train['Close'])\n",
    "plt.plot(valid[['Close', 'Predictions']])\n",
    "plt.legend(['Train','Valid', 'Predictions'], loc='lower right')\n",
    "plt.show()"
   ]
  },
  {
   "cell_type": "code",
   "execution_count": 25,
   "id": "dc98f450",
   "metadata": {},
   "outputs": [
    {
     "data": {
      "text/html": [
       "<div>\n",
       "<style scoped>\n",
       "    .dataframe tbody tr th:only-of-type {\n",
       "        vertical-align: middle;\n",
       "    }\n",
       "\n",
       "    .dataframe tbody tr th {\n",
       "        vertical-align: top;\n",
       "    }\n",
       "\n",
       "    .dataframe thead th {\n",
       "        text-align: right;\n",
       "    }\n",
       "</style>\n",
       "<table border=\"1\" class=\"dataframe\">\n",
       "  <thead>\n",
       "    <tr style=\"text-align: right;\">\n",
       "      <th></th>\n",
       "      <th>Close</th>\n",
       "      <th>Predictions</th>\n",
       "    </tr>\n",
       "    <tr>\n",
       "      <th>Date</th>\n",
       "      <th></th>\n",
       "      <th></th>\n",
       "    </tr>\n",
       "  </thead>\n",
       "  <tbody>\n",
       "    <tr>\n",
       "      <th>2020-01-06</th>\n",
       "      <td>74.949997</td>\n",
       "      <td>73.052124</td>\n",
       "    </tr>\n",
       "    <tr>\n",
       "      <th>2020-01-07</th>\n",
       "      <td>74.597504</td>\n",
       "      <td>73.795517</td>\n",
       "    </tr>\n",
       "    <tr>\n",
       "      <th>2020-01-08</th>\n",
       "      <td>75.797501</td>\n",
       "      <td>73.491394</td>\n",
       "    </tr>\n",
       "    <tr>\n",
       "      <th>2020-01-09</th>\n",
       "      <td>77.407501</td>\n",
       "      <td>74.603180</td>\n",
       "    </tr>\n",
       "    <tr>\n",
       "      <th>2020-01-10</th>\n",
       "      <td>77.582497</td>\n",
       "      <td>75.915497</td>\n",
       "    </tr>\n",
       "    <tr>\n",
       "      <th>...</th>\n",
       "      <td>...</td>\n",
       "      <td>...</td>\n",
       "    </tr>\n",
       "    <tr>\n",
       "      <th>2021-12-27</th>\n",
       "      <td>180.330002</td>\n",
       "      <td>152.586166</td>\n",
       "    </tr>\n",
       "    <tr>\n",
       "      <th>2021-12-28</th>\n",
       "      <td>179.289993</td>\n",
       "      <td>153.259384</td>\n",
       "    </tr>\n",
       "    <tr>\n",
       "      <th>2021-12-29</th>\n",
       "      <td>179.380005</td>\n",
       "      <td>153.304291</td>\n",
       "    </tr>\n",
       "    <tr>\n",
       "      <th>2021-12-30</th>\n",
       "      <td>178.199997</td>\n",
       "      <td>153.450012</td>\n",
       "    </tr>\n",
       "    <tr>\n",
       "      <th>2021-12-31</th>\n",
       "      <td>177.570007</td>\n",
       "      <td>153.505966</td>\n",
       "    </tr>\n",
       "  </tbody>\n",
       "</table>\n",
       "<p>503 rows × 2 columns</p>\n",
       "</div>"
      ],
      "text/plain": [
       "                 Close  Predictions\n",
       "Date                               \n",
       "2020-01-06   74.949997    73.052124\n",
       "2020-01-07   74.597504    73.795517\n",
       "2020-01-08   75.797501    73.491394\n",
       "2020-01-09   77.407501    74.603180\n",
       "2020-01-10   77.582497    75.915497\n",
       "...                ...          ...\n",
       "2021-12-27  180.330002   152.586166\n",
       "2021-12-28  179.289993   153.259384\n",
       "2021-12-29  179.380005   153.304291\n",
       "2021-12-30  178.199997   153.450012\n",
       "2021-12-31  177.570007   153.505966\n",
       "\n",
       "[503 rows x 2 columns]"
      ]
     },
     "execution_count": 25,
     "metadata": {},
     "output_type": "execute_result"
    }
   ],
   "source": [
    "#showing the valid and predicted prices\n",
    "valid\n"
   ]
  },
  {
   "cell_type": "code",
   "execution_count": 26,
   "id": "f6a242f2",
   "metadata": {},
   "outputs": [],
   "source": [
    "#predict AAPL closing price\n",
    "apple_quote = web.DataReader('AAPL', data_source='yahoo', start='2012-01-01', end= '2022-02-10')"
   ]
  },
  {
   "cell_type": "code",
   "execution_count": 27,
   "id": "3b3914ba",
   "metadata": {},
   "outputs": [
    {
     "name": "stdout",
     "output_type": "stream",
     "text": [
      "[[151.89072]]\n"
     ]
    }
   ],
   "source": [
    "#create a new dataframe\n",
    "new_df = apple_quote.filter(['Close'])\n",
    "#get the last 60 days closing price values and convert the DF to an array\n",
    "last_100 = new_df[-100:].values\n",
    "#scale the data to be values between 0 and 1\n",
    "last_100_scaled = scaler.transform(last_100)\n",
    "#create an empty list\n",
    "X_test = []\n",
    "#append the past 100 days \n",
    "X_test.append(last_100_scaled)\n",
    "#convert the X_test data set to a numpy array\n",
    "X_test = np.array(X_test)\n",
    "#reshape the data to 3D\n",
    "X_test = np.reshape(X_test, (X_test.shape[0], X_test.shape[1],1))\n",
    "#get the predicted scaled price\n",
    "pred_price = model.predict(X_test)\n",
    "#undo the sclaing\n",
    "pred_price = scaler.inverse_transform(pred_price)\n",
    "print(pred_price)"
   ]
  },
  {
   "cell_type": "code",
   "execution_count": 28,
   "id": "0395a848",
   "metadata": {},
   "outputs": [
    {
     "ename": "NameError",
     "evalue": "name 'baba_quote2' is not defined",
     "output_type": "error",
     "traceback": [
      "\u001b[0;31m---------------------------------------------------------------------------\u001b[0m",
      "\u001b[0;31mNameError\u001b[0m                                 Traceback (most recent call last)",
      "\u001b[0;32m<ipython-input-28-0543331f6011>\u001b[0m in \u001b[0;36m<module>\u001b[0;34m\u001b[0m\n\u001b[1;32m      2\u001b[0m \u001b[0mquote2\u001b[0m \u001b[0;34m=\u001b[0m \u001b[0mweb\u001b[0m\u001b[0;34m.\u001b[0m\u001b[0mDataReader\u001b[0m\u001b[0;34m(\u001b[0m\u001b[0;34m'AAPL'\u001b[0m\u001b[0;34m,\u001b[0m \u001b[0mdata_source\u001b[0m\u001b[0;34m=\u001b[0m\u001b[0;34m'yahoo'\u001b[0m\u001b[0;34m,\u001b[0m \u001b[0mstart\u001b[0m\u001b[0;34m=\u001b[0m\u001b[0;34m'2022-01-21'\u001b[0m\u001b[0;34m,\u001b[0m \u001b[0mend\u001b[0m\u001b[0;34m=\u001b[0m \u001b[0;34m'2022-02-16'\u001b[0m\u001b[0;34m)\u001b[0m\u001b[0;34m\u001b[0m\u001b[0;34m\u001b[0m\u001b[0m\n\u001b[1;32m      3\u001b[0m \u001b[0;34m\u001b[0m\u001b[0m\n\u001b[0;32m----> 4\u001b[0;31m \u001b[0mprint\u001b[0m \u001b[0;34m(\u001b[0m\u001b[0mbaba_quote2\u001b[0m\u001b[0;34m[\u001b[0m\u001b[0;34m'Close'\u001b[0m\u001b[0;34m]\u001b[0m\u001b[0;34m)\u001b[0m\u001b[0;34m\u001b[0m\u001b[0;34m\u001b[0m\u001b[0m\n\u001b[0m",
      "\u001b[0;31mNameError\u001b[0m: name 'baba_quote2' is not defined"
     ]
    }
   ],
   "source": [
    "#predict AAPL closing price\n",
    "quote2 = web.DataReader('AAPL', data_source='yahoo', start='2022-01-21', end= '2022-02-16')\n",
    "\n",
    "print (baba_quote2['Close'])\n"
   ]
  },
  {
   "cell_type": "code",
   "execution_count": null,
   "id": "41f64aed",
   "metadata": {},
   "outputs": [],
   "source": [
    "train_predict=model.predict(x_train)\n",
    "test_predict=model.predict(x_test)\n",
    "\n",
    "train_predict = train_predict.reshape(-1,1)\n",
    "test_predict = test_predict.reshape(-1,1)\n",
    "\n",
    "print(\"Train data prediction:\", train_predict.shape)\n",
    "print(\"Test data prediction:\", test_predict.shape)"
   ]
  },
  {
   "cell_type": "code",
   "execution_count": null,
   "id": "62b36d83",
   "metadata": {},
   "outputs": [],
   "source": [
    "# Transform back to original form\n",
    "\n",
    "#train_predict = scaler.inverse_transform(train_predict)\n",
    "#test_predict = scaler.inverse_transform(test_predict)\n",
    "#original_ytrain = scaler.inverse_transform(y_train.reshape(-1,1)) \n",
    "#original_ytest = scaler.inverse_transform(y_test.reshape(-1,1))"
   ]
  },
  {
   "cell_type": "code",
   "execution_count": null,
   "id": "ab85d852",
   "metadata": {},
   "outputs": [],
   "source": [
    "# Evaluation metrices RMSE and MAE\n",
    "from sklearn.metrics import mean_squared_error, mean_absolute_error\n",
    "#print(\"Train data RMSE: \", math.sqrt(mean_squared_error(original_ytrain,train_predict)))\n",
    "#print(\"Train data MSE: \", mean_squared_error(original_ytrain,train_predict))\n",
    "#print(\"Test data MAE: \", mean_absolute_error(original_ytrain,train_predict))\n",
    "#print(\"-------------------------------------------------------------------------------------\")\n",
    "#print(\"Test data RMSE: \", math.sqrt(mean_squared_error(original_ytest,test_predict)))\n",
    "#print(\"Test data MSE: \", mean_squared_error(original_ytest,test_predict))\n",
    "#print(\"Test data MAE: \", mean_absolute_error(original_ytest,test_predict))"
   ]
  },
  {
   "cell_type": "code",
   "execution_count": null,
   "id": "b4d476c9",
   "metadata": {},
   "outputs": [],
   "source": [
    "# Define a function to calculate MAE and RMSE\n",
    "def evaluate_prediction(predictions, actual, model_name):\n",
    "    errors = predictions - actual\n",
    "    mse = np.square(errors).mean()\n",
    "    rmse = np.sqrt(mse)\n",
    "    mae = np.abs(errors).mean()\n",
    "\n",
    "    print(model_name + ':')\n",
    "    print('Mean Absolute Error: {:.4f}'.format(mae))\n",
    "    print('Root Mean Square Error: {:.4f}'.format(rmse))\n",
    "    print('')\n"
   ]
  },
  {
   "cell_type": "code",
   "execution_count": null,
   "id": "e9a3b711",
   "metadata": {},
   "outputs": [],
   "source": [
    "evaluate_prediction(test_predict, y_test, 'LSTM')"
   ]
  },
  {
   "cell_type": "code",
   "execution_count": null,
   "id": "52ceda40",
   "metadata": {},
   "outputs": [],
   "source": []
  },
  {
   "cell_type": "code",
   "execution_count": null,
   "id": "8b6320f0",
   "metadata": {},
   "outputs": [],
   "source": []
  },
  {
   "cell_type": "code",
   "execution_count": null,
   "id": "0c1b57dd",
   "metadata": {},
   "outputs": [],
   "source": []
  },
  {
   "cell_type": "code",
   "execution_count": null,
   "id": "599e478f",
   "metadata": {},
   "outputs": [],
   "source": []
  },
  {
   "cell_type": "code",
   "execution_count": null,
   "id": "e34e55da",
   "metadata": {},
   "outputs": [],
   "source": []
  },
  {
   "cell_type": "code",
   "execution_count": null,
   "id": "c1ee2ca5",
   "metadata": {},
   "outputs": [],
   "source": []
  },
  {
   "cell_type": "code",
   "execution_count": null,
   "id": "0d98e3d7",
   "metadata": {},
   "outputs": [],
   "source": []
  },
  {
   "cell_type": "code",
   "execution_count": null,
   "id": "ffb6fd65",
   "metadata": {},
   "outputs": [],
   "source": []
  },
  {
   "cell_type": "code",
   "execution_count": null,
   "id": "b85fabd9",
   "metadata": {},
   "outputs": [],
   "source": []
  },
  {
   "cell_type": "code",
   "execution_count": null,
   "id": "709e6d52",
   "metadata": {},
   "outputs": [],
   "source": []
  },
  {
   "cell_type": "code",
   "execution_count": null,
   "id": "254c045b",
   "metadata": {},
   "outputs": [],
   "source": []
  }
 ],
 "metadata": {
  "kernelspec": {
   "display_name": "Python 3",
   "language": "python",
   "name": "python3"
  },
  "language_info": {
   "codemirror_mode": {
    "name": "ipython",
    "version": 3
   },
   "file_extension": ".py",
   "mimetype": "text/x-python",
   "name": "python",
   "nbconvert_exporter": "python",
   "pygments_lexer": "ipython3",
   "version": "3.8.8"
  }
 },
 "nbformat": 4,
 "nbformat_minor": 5
}
